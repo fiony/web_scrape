{
  "nbformat": 4,
  "nbformat_minor": 0,
  "metadata": {
    "colab": {
      "name": "DomainApi.ipynb",
      "provenance": [],
      "collapsed_sections": [],
      "authorship_tag": "ABX9TyOd8BNFg9pTSel5F3+kz2uG",
      "include_colab_link": true
    },
    "kernelspec": {
      "name": "python3",
      "display_name": "Python 3"
    }
  },
  "cells": [
    {
      "cell_type": "markdown",
      "metadata": {
        "id": "view-in-github",
        "colab_type": "text"
      },
      "source": [
        "<a href=\"https://colab.research.google.com/github/fiony/web_scrape/blob/master/DomainApi.ipynb\" target=\"_parent\"><img src=\"https://colab.research.google.com/assets/colab-badge.svg\" alt=\"Open In Colab\"/></a>"
      ]
    },
    {
      "cell_type": "markdown",
      "metadata": {
        "id": "-jKnyB8oCYX9",
        "colab_type": "text"
      },
      "source": [
        "### Suburb"
      ]
    },
    {
      "cell_type": "code",
      "metadata": {
        "id": "BkzZX_YICJ1k",
        "colab_type": "code",
        "colab": {}
      },
      "source": [
        "TURRAMURRA = Suburb(name=\"Turramurra\", postcode=2074, state='nsw')\n",
        "LANE_COVE = Suburb(name=\"Lane Cove\", postcode=2066, state='nsw')"
      ],
      "execution_count": 137,
      "outputs": []
    },
    {
      "cell_type": "code",
      "metadata": {
        "id": "mL5LGuPGCfIT",
        "colab_type": "code",
        "colab": {}
      },
      "source": [
        "search_price = PriceRange(1.8e6, 2.5e6)\n",
        "search_property = PropertyRange(bed=\"3+\", bath=\"1+\", car=\"1+\")"
      ],
      "execution_count": 138,
      "outputs": []
    },
    {
      "cell_type": "markdown",
      "metadata": {
        "id": "kn6ko6YpCUVy",
        "colab_type": "text"
      },
      "source": [
        "### Property Listing"
      ]
    },
    {
      "cell_type": "code",
      "metadata": {
        "id": "DCGyNtQHDWtg",
        "colab_type": "code",
        "colab": {}
      },
      "source": [
        "sub = LANE_COVE"
      ],
      "execution_count": 319,
      "outputs": []
    },
    {
      "cell_type": "code",
      "metadata": {
        "id": "D_zDgSXAaZx8",
        "colab_type": "code",
        "colab": {}
      },
      "source": [
        "setLogLevel(logging.INFO)"
      ],
      "execution_count": 320,
      "outputs": []
    },
    {
      "cell_type": "code",
      "metadata": {
        "id": "zFzrEN-PqyjF",
        "colab_type": "code",
        "colab": {}
      },
      "source": [
        "client = DomainClient(SiteInfo)"
      ],
      "execution_count": 321,
      "outputs": []
    },
    {
      "cell_type": "code",
      "metadata": {
        "id": "Re_1HsBFTCli",
        "colab_type": "code",
        "colab": {}
      },
      "source": [
        "sub_by_property = client.listing(sub, property_range=search_property)"
      ],
      "execution_count": 322,
      "outputs": []
    },
    {
      "cell_type": "code",
      "metadata": {
        "id": "Bcaz1nRbY7zA",
        "colab_type": "code",
        "colab": {}
      },
      "source": [
        "sub_by_price = client.listing(sub, price_range=search_price)"
      ],
      "execution_count": 323,
      "outputs": []
    },
    {
      "cell_type": "code",
      "metadata": {
        "id": "F6jB4QFpaeG4",
        "colab_type": "code",
        "colab": {}
      },
      "source": [
        "Q_GAS = \"gas=='Y'\"\n",
        "Q_NO_POOL = \"pool=='N'\"\n",
        "Q_4_bed = \"bed==4\"\n",
        "def display_listing(result, query=[]):\n",
        "  df = to_dataframe(result)\n",
        "  for q in query:\n",
        "    df = df.query(q)\n",
        "  to_table(df)"
      ],
      "execution_count": 324,
      "outputs": []
    },
    {
      "cell_type": "code",
      "metadata": {
        "id": "VQNAz24NsDW8",
        "colab_type": "code",
        "colab": {
          "base_uri": "https://localhost:8080/",
          "height": 700
        },
        "outputId": "9d82597d-8700-4760-ef3f-9b34155f800f"
      },
      "source": [
        "display_listing(sub_by_property, query=[Q_GAS])"
      ],
      "execution_count": 325,
      "outputs": [
        {
          "output_type": "display_data",
          "data": {
            "text/html": [
              "<table border=\"1\" class=\"dataframe\">\n",
              "  <thead>\n",
              "    <tr style=\"text-align: right;\">\n",
              "      <th></th>\n",
              "      <th>addr</th>\n",
              "      <th>area</th>\n",
              "      <th>bed</th>\n",
              "      <th>car</th>\n",
              "      <th>bath</th>\n",
              "      <th>gas</th>\n",
              "      <th>pool</th>\n",
              "      <th>price</th>\n",
              "      <th>auction</th>\n",
              "      <th>inspect</th>\n",
              "      <th>sub</th>\n",
              "      <th>latitude</th>\n",
              "      <th>longitude</th>\n",
              "    </tr>\n",
              "    <tr>\n",
              "      <th>pid</th>\n",
              "      <th></th>\n",
              "      <th></th>\n",
              "      <th></th>\n",
              "      <th></th>\n",
              "      <th></th>\n",
              "      <th></th>\n",
              "      <th></th>\n",
              "      <th></th>\n",
              "      <th></th>\n",
              "      <th></th>\n",
              "      <th></th>\n",
              "      <th></th>\n",
              "      <th></th>\n",
              "    </tr>\n",
              "  </thead>\n",
              "  <tbody>\n",
              "    <tr>\n",
              "      <th>2016321221</th>\n",
              "      <td><a target=\"_blank\" href=\"https://www.domain.com.au/16-best-street-lane-cove-nsw-2066-2016321221\">16 Best Street</a></td>\n",
              "      <td>400.0</td>\n",
              "      <td>3</td>\n",
              "      <td>2</td>\n",
              "      <td>2</td>\n",
              "      <td>Y</td>\n",
              "      <td>Y</td>\n",
              "      <td>Auction, unless sold prior</td>\n",
              "      <td>07-11T10:00</td>\n",
              "      <td>06-24T11:4</td>\n",
              "      <td>LANE COVE</td>\n",
              "      <td>-33.816710</td>\n",
              "      <td>151.155029</td>\n",
              "    </tr>\n",
              "    <tr>\n",
              "      <th>2016303155</th>\n",
              "      <td><a target=\"_blank\" href=\"https://www.domain.com.au/7-angus-avenue-lane-cove-nsw-2066-2016303155\">7 Angus Avenue</a></td>\n",
              "      <td>558.0</td>\n",
              "      <td>5</td>\n",
              "      <td>3</td>\n",
              "      <td>2</td>\n",
              "      <td>Y</td>\n",
              "      <td>Y</td>\n",
              "      <td>Auction Saturday 4th July</td>\n",
              "      <td>07-04T13:30</td>\n",
              "      <td>06-24T10:4</td>\n",
              "      <td>LANE COVE</td>\n",
              "      <td>-33.815280</td>\n",
              "      <td>151.176200</td>\n",
              "    </tr>\n",
              "    <tr>\n",
              "      <th>2016308758</th>\n",
              "      <td><a target=\"_blank\" href=\"https://www.domain.com.au/46-hinkler-crescent-lane-cove-nsw-2066-2016308758\">46 Hinkler Crescent</a></td>\n",
              "      <td>657.0</td>\n",
              "      <td>3</td>\n",
              "      <td>3</td>\n",
              "      <td>2</td>\n",
              "      <td>Y</td>\n",
              "      <td>N</td>\n",
              "      <td>Guide: $1,900,000</td>\n",
              "      <td>07-04T09:00</td>\n",
              "      <td>06-24T11:0</td>\n",
              "      <td>LANE COVE</td>\n",
              "      <td>-33.803387</td>\n",
              "      <td>151.151077</td>\n",
              "    </tr>\n",
              "    <tr>\n",
              "      <th>2016307584</th>\n",
              "      <td><a target=\"_blank\" href=\"https://www.domain.com.au/265-burns-bay-road-lane-cove-nsw-2066-2016307584\">265 Burns Bay Road</a></td>\n",
              "      <td>559.0</td>\n",
              "      <td>3</td>\n",
              "      <td>2</td>\n",
              "      <td>2</td>\n",
              "      <td>Y</td>\n",
              "      <td>Y</td>\n",
              "      <td>Auction - Contact Rebecca Mitchell</td>\n",
              "      <td>07-04T15:00</td>\n",
              "      <td>06-24T11:0</td>\n",
              "      <td>LANE COVE</td>\n",
              "      <td>-33.818207</td>\n",
              "      <td>151.151031</td>\n",
              "    </tr>\n",
              "    <tr>\n",
              "      <th>2016271029</th>\n",
              "      <td><a target=\"_blank\" href=\"https://www.domain.com.au/305-burns-bay-road-lane-cove-nsw-2066-2016271029\">305 Burns Bay Road</a></td>\n",
              "      <td>803.0</td>\n",
              "      <td>5</td>\n",
              "      <td>4</td>\n",
              "      <td>3</td>\n",
              "      <td>Y</td>\n",
              "      <td>N</td>\n",
              "      <td>FORTHCOMING AUCTION</td>\n",
              "      <td>None</td>\n",
              "      <td>06-24T14:0</td>\n",
              "      <td>LANE COVE</td>\n",
              "      <td>-33.820270</td>\n",
              "      <td>151.149719</td>\n",
              "    </tr>\n",
              "    <tr>\n",
              "      <th>2016295364</th>\n",
              "      <td><a target=\"_blank\" href=\"https://www.domain.com.au/11-matthews-avenue-lane-cove-nsw-2066-2016295364\">11 Matthews Avenue</a></td>\n",
              "      <td>NaN</td>\n",
              "      <td>4</td>\n",
              "      <td>2</td>\n",
              "      <td>3</td>\n",
              "      <td>Y</td>\n",
              "      <td>N</td>\n",
              "      <td>Auction - Contact Rebecca Mitchell</td>\n",
              "      <td>06-27T09:00</td>\n",
              "      <td>06-27T11:0</td>\n",
              "      <td>LANE COVE</td>\n",
              "      <td>-33.814890</td>\n",
              "      <td>151.159363</td>\n",
              "    </tr>\n",
              "    <tr>\n",
              "      <th>2016042498</th>\n",
              "      <td><a target=\"_blank\" href=\"https://www.domain.com.au/19-joseph-street-lane-cove-nsw-2066-2016042498\">19 Joseph Street</a></td>\n",
              "      <td>917.0</td>\n",
              "      <td>5</td>\n",
              "      <td>2</td>\n",
              "      <td>3</td>\n",
              "      <td>Y</td>\n",
              "      <td>Y</td>\n",
              "      <td>Contact Agent</td>\n",
              "      <td>None</td>\n",
              "      <td>None</td>\n",
              "      <td>LANE COVE</td>\n",
              "      <td>-33.817420</td>\n",
              "      <td>151.175888</td>\n",
              "    </tr>\n",
              "    <tr>\n",
              "      <th>2016206611</th>\n",
              "      <td><a target=\"_blank\" href=\"https://www.domain.com.au/1-austin-crescent-lane-cove-nsw-2066-2016206611\">1 Austin Crescent</a></td>\n",
              "      <td>607.0</td>\n",
              "      <td>4</td>\n",
              "      <td>2</td>\n",
              "      <td>3</td>\n",
              "      <td>Y</td>\n",
              "      <td>N</td>\n",
              "      <td>For Sale by negotiation</td>\n",
              "      <td>None</td>\n",
              "      <td>06-24T11:0</td>\n",
              "      <td>LANE COVE</td>\n",
              "      <td>-33.816830</td>\n",
              "      <td>151.167923</td>\n",
              "    </tr>\n",
              "    <tr>\n",
              "      <th>2016149889</th>\n",
              "      <td><a target=\"_blank\" href=\"https://www.domain.com.au/6-sutherland-street-lane-cove-nsw-2066-2016149889\">6 Sutherland Street</a></td>\n",
              "      <td>588.0</td>\n",
              "      <td>5</td>\n",
              "      <td>2</td>\n",
              "      <td>3</td>\n",
              "      <td>Y</td>\n",
              "      <td>N</td>\n",
              "      <td>For sale $2,600,000</td>\n",
              "      <td>None</td>\n",
              "      <td>None</td>\n",
              "      <td>LANE COVE</td>\n",
              "      <td>-33.814190</td>\n",
              "      <td>151.165558</td>\n",
              "    </tr>\n",
              "    <tr>\n",
              "      <th>2016212980</th>\n",
              "      <td><a target=\"_blank\" href=\"https://www.domain.com.au/28-best-street-lane-cove-nsw-2066-2016212980\">28 Best Street</a></td>\n",
              "      <td>1000.0</td>\n",
              "      <td>6</td>\n",
              "      <td>8</td>\n",
              "      <td>6</td>\n",
              "      <td>Y</td>\n",
              "      <td>Y</td>\n",
              "      <td>POA</td>\n",
              "      <td>None</td>\n",
              "      <td>06-23T11:0</td>\n",
              "      <td>LANE COVE</td>\n",
              "      <td>-33.818127</td>\n",
              "      <td>151.156189</td>\n",
              "    </tr>\n",
              "    <tr>\n",
              "      <th>2016308108</th>\n",
              "      <td><a target=\"_blank\" href=\"https://www.domain.com.au/4-arabella-street-longueville-nsw-2066-2016308108\">4 Arabella Street</a></td>\n",
              "      <td>714.0</td>\n",
              "      <td>5</td>\n",
              "      <td>2</td>\n",
              "      <td>3</td>\n",
              "      <td>Y</td>\n",
              "      <td>Y</td>\n",
              "      <td>Contact Agent</td>\n",
              "      <td>07-04T09:00</td>\n",
              "      <td>06-24T13:0</td>\n",
              "      <td>LONGUEVILLE</td>\n",
              "      <td>-33.826060</td>\n",
              "      <td>151.174667</td>\n",
              "    </tr>\n",
              "    <tr>\n",
              "      <th>2016307630</th>\n",
              "      <td><a target=\"_blank\" href=\"https://www.domain.com.au/15-ronald-avenue-greenwich-nsw-2065-2016307630\">15 Ronald Avenue</a></td>\n",
              "      <td>740.0</td>\n",
              "      <td>6</td>\n",
              "      <td>2</td>\n",
              "      <td>4</td>\n",
              "      <td>Y</td>\n",
              "      <td>Y</td>\n",
              "      <td>Auction - Contact Mary-Anne Fitzgerald</td>\n",
              "      <td>07-11T12:00</td>\n",
              "      <td>06-24T12:0</td>\n",
              "      <td>GREENWICH</td>\n",
              "      <td>-33.820660</td>\n",
              "      <td>151.183487</td>\n",
              "    </tr>\n",
              "    <tr>\n",
              "      <th>2016169285</th>\n",
              "      <td><a target=\"_blank\" href=\"https://www.domain.com.au/23-yallambee-road-riverview-nsw-2066-2016169285\">23 Yallambee Road</a></td>\n",
              "      <td>NaN</td>\n",
              "      <td>5</td>\n",
              "      <td>2</td>\n",
              "      <td>2</td>\n",
              "      <td>Y</td>\n",
              "      <td>Y</td>\n",
              "      <td>CONTACT AGENT</td>\n",
              "      <td>07-04T11:15</td>\n",
              "      <td>06-24T11:4</td>\n",
              "      <td>RIVERVIEW</td>\n",
              "      <td>-33.821953</td>\n",
              "      <td>151.166382</td>\n",
              "    </tr>\n",
              "    <tr>\n",
              "      <th>2016261030</th>\n",
              "      <td><a target=\"_blank\" href=\"https://www.domain.com.au/23-stewart-street-artarmon-nsw-2064-2016261030\">23 Stewart Street</a></td>\n",
              "      <td>353.0</td>\n",
              "      <td>3</td>\n",
              "      <td>2</td>\n",
              "      <td>2</td>\n",
              "      <td>Y</td>\n",
              "      <td>N</td>\n",
              "      <td>Auction</td>\n",
              "      <td>07-04T14:15</td>\n",
              "      <td>06-24T13:3</td>\n",
              "      <td>ARTARMON</td>\n",
              "      <td>-33.803280</td>\n",
              "      <td>151.186874</td>\n",
              "    </tr>\n",
              "    <tr>\n",
              "      <th>2016305185</th>\n",
              "      <td><a target=\"_blank\" href=\"https://www.domain.com.au/1-sarner-road-greenwich-nsw-2065-2016305185\">1 Sarner Road</a></td>\n",
              "      <td>336.0</td>\n",
              "      <td>3</td>\n",
              "      <td>1</td>\n",
              "      <td>2</td>\n",
              "      <td>Y</td>\n",
              "      <td>N</td>\n",
              "      <td>Auction - 4th July</td>\n",
              "      <td>07-04T12:00</td>\n",
              "      <td>06-24T11:3</td>\n",
              "      <td>GREENWICH</td>\n",
              "      <td>-33.825287</td>\n",
              "      <td>151.186539</td>\n",
              "    </tr>\n",
              "    <tr>\n",
              "      <th>2016262108</th>\n",
              "      <td><a target=\"_blank\" href=\"https://www.domain.com.au/57-sinclair-street-wollstonecraft-nsw-2065-2016262108\">57 Sinclair Street</a></td>\n",
              "      <td>278.0</td>\n",
              "      <td>3</td>\n",
              "      <td>2</td>\n",
              "      <td>1</td>\n",
              "      <td>Y</td>\n",
              "      <td>N</td>\n",
              "      <td>For Sale $2,195,000</td>\n",
              "      <td>06-06T10:30</td>\n",
              "      <td>None</td>\n",
              "      <td>WOLLSTONECRAFT</td>\n",
              "      <td>-33.829254</td>\n",
              "      <td>151.200836</td>\n",
              "    </tr>\n",
              "    <tr>\n",
              "      <th>2015808753</th>\n",
              "      <td><a target=\"_blank\" href=\"https://www.domain.com.au/38-lucretia-avenue-longueville-nsw-2066-2015808753\">38 Lucretia Avenue</a></td>\n",
              "      <td>1227.0</td>\n",
              "      <td>5</td>\n",
              "      <td>2</td>\n",
              "      <td>3</td>\n",
              "      <td>Y</td>\n",
              "      <td>Y</td>\n",
              "      <td>Contact agent</td>\n",
              "      <td>None</td>\n",
              "      <td>None</td>\n",
              "      <td>LONGUEVILLE</td>\n",
              "      <td>-33.832977</td>\n",
              "      <td>151.172287</td>\n",
              "    </tr>\n",
              "    <tr>\n",
              "      <th>2016209305</th>\n",
              "      <td><a target=\"_blank\" href=\"https://www.domain.com.au/11-telopea-street-wollstonecraft-nsw-2065-2016209305\">11 Telopea Street</a></td>\n",
              "      <td>1107.0</td>\n",
              "      <td>5</td>\n",
              "      <td>2</td>\n",
              "      <td>3</td>\n",
              "      <td>Y</td>\n",
              "      <td>Y</td>\n",
              "      <td>Price on Request</td>\n",
              "      <td>None</td>\n",
              "      <td>None</td>\n",
              "      <td>WOLLSTONECRAFT</td>\n",
              "      <td>-33.832004</td>\n",
              "      <td>151.190643</td>\n",
              "    </tr>\n",
              "    <tr>\n",
              "      <th>2016273046</th>\n",
              "      <td><a target=\"_blank\" href=\"https://www.domain.com.au/4-dawson-street-naremburn-nsw-2065-2016273046\">4 Dawson Street</a></td>\n",
              "      <td>278.0</td>\n",
              "      <td>3</td>\n",
              "      <td>2</td>\n",
              "      <td>2</td>\n",
              "      <td>Y</td>\n",
              "      <td>N</td>\n",
              "      <td>Price on Request</td>\n",
              "      <td>07-04T15:00</td>\n",
              "      <td>06-24T11:3</td>\n",
              "      <td>NAREMBURN</td>\n",
              "      <td>-33.816673</td>\n",
              "      <td>151.208679</td>\n",
              "    </tr>\n",
              "    <tr>\n",
              "      <th>2016210325</th>\n",
              "      <td><a target=\"_blank\" href=\"https://www.domain.com.au/70-falcon-street-crows-nest-nsw-2065-2016210325\">70 Falcon Street</a></td>\n",
              "      <td>199.0</td>\n",
              "      <td>4</td>\n",
              "      <td>1</td>\n",
              "      <td>3</td>\n",
              "      <td>Y</td>\n",
              "      <td>N</td>\n",
              "      <td>For Sale</td>\n",
              "      <td>None</td>\n",
              "      <td>06-24T13:0</td>\n",
              "      <td>CROWS NEST</td>\n",
              "      <td>-33.827976</td>\n",
              "      <td>151.204000</td>\n",
              "    </tr>\n",
              "  </tbody>\n",
              "</table>"
            ],
            "text/plain": [
              "<IPython.core.display.HTML object>"
            ]
          },
          "metadata": {
            "tags": []
          }
        }
      ]
    },
    {
      "cell_type": "code",
      "metadata": {
        "id": "Vc_RRfYFzBLF",
        "colab_type": "code",
        "colab": {
          "base_uri": "https://localhost:8080/",
          "height": 297
        },
        "outputId": "0fca71cf-706e-4739-8e38-20142aea0ea1"
      },
      "source": [
        "display_listing(sub_by_price, query=[Q_GAS,Q_NO_POOL])"
      ],
      "execution_count": 326,
      "outputs": [
        {
          "output_type": "display_data",
          "data": {
            "text/html": [
              "<table border=\"1\" class=\"dataframe\">\n",
              "  <thead>\n",
              "    <tr style=\"text-align: right;\">\n",
              "      <th></th>\n",
              "      <th>addr</th>\n",
              "      <th>area</th>\n",
              "      <th>bed</th>\n",
              "      <th>car</th>\n",
              "      <th>bath</th>\n",
              "      <th>gas</th>\n",
              "      <th>pool</th>\n",
              "      <th>price</th>\n",
              "      <th>auction</th>\n",
              "      <th>inspect</th>\n",
              "      <th>sub</th>\n",
              "      <th>latitude</th>\n",
              "      <th>longitude</th>\n",
              "    </tr>\n",
              "    <tr>\n",
              "      <th>pid</th>\n",
              "      <th></th>\n",
              "      <th></th>\n",
              "      <th></th>\n",
              "      <th></th>\n",
              "      <th></th>\n",
              "      <th></th>\n",
              "      <th></th>\n",
              "      <th></th>\n",
              "      <th></th>\n",
              "      <th></th>\n",
              "      <th></th>\n",
              "      <th></th>\n",
              "      <th></th>\n",
              "    </tr>\n",
              "  </thead>\n",
              "  <tbody>\n",
              "    <tr>\n",
              "      <th>2016308758</th>\n",
              "      <td><a target=\"_blank\" href=\"https://www.domain.com.au/46-hinkler-crescent-lane-cove-nsw-2066-2016308758\">46 Hinkler Crescent</a></td>\n",
              "      <td>657.0</td>\n",
              "      <td>3</td>\n",
              "      <td>3.0</td>\n",
              "      <td>2</td>\n",
              "      <td>Y</td>\n",
              "      <td>N</td>\n",
              "      <td>Guide: $1,900,000</td>\n",
              "      <td>07-04T09:00</td>\n",
              "      <td>06-24T11:0</td>\n",
              "      <td>LANE COVE</td>\n",
              "      <td>-33.803387</td>\n",
              "      <td>151.151077</td>\n",
              "    </tr>\n",
              "    <tr>\n",
              "      <th>2016295364</th>\n",
              "      <td><a target=\"_blank\" href=\"https://www.domain.com.au/11-matthews-avenue-lane-cove-nsw-2066-2016295364\">11 Matthews Avenue</a></td>\n",
              "      <td>NaN</td>\n",
              "      <td>4</td>\n",
              "      <td>2.0</td>\n",
              "      <td>3</td>\n",
              "      <td>Y</td>\n",
              "      <td>N</td>\n",
              "      <td>Auction - Contact Rebecca Mitchell</td>\n",
              "      <td>06-27T09:00</td>\n",
              "      <td>06-27T11:0</td>\n",
              "      <td>LANE COVE</td>\n",
              "      <td>-33.814890</td>\n",
              "      <td>151.159363</td>\n",
              "    </tr>\n",
              "    <tr>\n",
              "      <th>2016305185</th>\n",
              "      <td><a target=\"_blank\" href=\"https://www.domain.com.au/1-sarner-road-greenwich-nsw-2065-2016305185\">1 Sarner Road</a></td>\n",
              "      <td>336.0</td>\n",
              "      <td>3</td>\n",
              "      <td>1.0</td>\n",
              "      <td>2</td>\n",
              "      <td>Y</td>\n",
              "      <td>N</td>\n",
              "      <td>Auction - 4th July</td>\n",
              "      <td>07-04T12:00</td>\n",
              "      <td>06-24T11:3</td>\n",
              "      <td>GREENWICH</td>\n",
              "      <td>-33.825287</td>\n",
              "      <td>151.186539</td>\n",
              "    </tr>\n",
              "    <tr>\n",
              "      <th>2016262108</th>\n",
              "      <td><a target=\"_blank\" href=\"https://www.domain.com.au/57-sinclair-street-wollstonecraft-nsw-2065-2016262108\">57 Sinclair Street</a></td>\n",
              "      <td>278.0</td>\n",
              "      <td>3</td>\n",
              "      <td>2.0</td>\n",
              "      <td>1</td>\n",
              "      <td>Y</td>\n",
              "      <td>N</td>\n",
              "      <td>For Sale $2,195,000</td>\n",
              "      <td>06-06T10:30</td>\n",
              "      <td>None</td>\n",
              "      <td>WOLLSTONECRAFT</td>\n",
              "      <td>-33.829254</td>\n",
              "      <td>151.200836</td>\n",
              "    </tr>\n",
              "    <tr>\n",
              "      <th>2016273046</th>\n",
              "      <td><a target=\"_blank\" href=\"https://www.domain.com.au/4-dawson-street-naremburn-nsw-2065-2016273046\">4 Dawson Street</a></td>\n",
              "      <td>278.0</td>\n",
              "      <td>3</td>\n",
              "      <td>2.0</td>\n",
              "      <td>2</td>\n",
              "      <td>Y</td>\n",
              "      <td>N</td>\n",
              "      <td>Price on Request</td>\n",
              "      <td>07-04T15:00</td>\n",
              "      <td>06-24T11:3</td>\n",
              "      <td>NAREMBURN</td>\n",
              "      <td>-33.816673</td>\n",
              "      <td>151.208679</td>\n",
              "    </tr>\n",
              "    <tr>\n",
              "      <th>2016244486</th>\n",
              "      <td><a target=\"_blank\" href=\"https://www.domain.com.au/37-atchison-street-crows-nest-nsw-2065-2016244486\">37 Atchison Street</a></td>\n",
              "      <td>NaN</td>\n",
              "      <td>2</td>\n",
              "      <td>NaN</td>\n",
              "      <td>1</td>\n",
              "      <td>Y</td>\n",
              "      <td>N</td>\n",
              "      <td>For Sale $1,800,000</td>\n",
              "      <td>None</td>\n",
              "      <td>06-24T17:0</td>\n",
              "      <td>CROWS NEST</td>\n",
              "      <td>-33.823100</td>\n",
              "      <td>151.199219</td>\n",
              "    </tr>\n",
              "    <tr>\n",
              "      <th>2016210325</th>\n",
              "      <td><a target=\"_blank\" href=\"https://www.domain.com.au/70-falcon-street-crows-nest-nsw-2065-2016210325\">70 Falcon Street</a></td>\n",
              "      <td>199.0</td>\n",
              "      <td>4</td>\n",
              "      <td>1.0</td>\n",
              "      <td>3</td>\n",
              "      <td>Y</td>\n",
              "      <td>N</td>\n",
              "      <td>For Sale</td>\n",
              "      <td>None</td>\n",
              "      <td>06-24T13:0</td>\n",
              "      <td>CROWS NEST</td>\n",
              "      <td>-33.827976</td>\n",
              "      <td>151.204000</td>\n",
              "    </tr>\n",
              "  </tbody>\n",
              "</table>"
            ],
            "text/plain": [
              "<IPython.core.display.HTML object>"
            ]
          },
          "metadata": {
            "tags": []
          }
        }
      ]
    },
    {
      "cell_type": "markdown",
      "metadata": {
        "id": "tMaZeD6ICKV9",
        "colab_type": "text"
      },
      "source": [
        "### Single Property"
      ]
    },
    {
      "cell_type": "code",
      "metadata": {
        "id": "pmYB0RJsB7_q",
        "colab_type": "code",
        "colab": {}
      },
      "source": [
        "prop_id = 2016308108"
      ],
      "execution_count": 327,
      "outputs": []
    },
    {
      "cell_type": "code",
      "metadata": {
        "id": "SIyncs6-DY7m",
        "colab_type": "code",
        "colab": {}
      },
      "source": [
        "prop = PropertyReport(client,prop_id)"
      ],
      "execution_count": 334,
      "outputs": []
    },
    {
      "cell_type": "code",
      "metadata": {
        "id": "hdeiIGsILqRe",
        "colab_type": "code",
        "colab": {
          "base_uri": "https://localhost:8080/",
          "height": 204
        },
        "outputId": "f189e91a-15b0-4103-ac4a-c12a2b522379"
      },
      "source": [
        "prop.check_price(price_range=PriceRange(min=2e6, max=4e6), price_step=5000)"
      ],
      "execution_count": 329,
      "outputs": [
        {
          "output_type": "stream",
          "text": [
            "INFO:DomainApi:start min_price=2000000.0 max_price=4000000.0\n",
            "INFO:DomainApi:min_price=2000000.0 max_price=4000000.0 mid_price=3000000.0\n",
            "INFO:DomainApi:min_price=3005000.0 max_price=4000000.0 mid_price=3502500.0\n",
            "INFO:DomainApi:min_price=3507500.0 max_price=4000000.0 mid_price=3753750.0\n",
            "INFO:DomainApi:min_price=3758750.0 max_price=4000000.0 mid_price=3879375.0\n",
            "INFO:DomainApi:min_price=3884375.0 max_price=4000000.0 mid_price=3942187.0\n",
            "INFO:DomainApi:min_price=3884375.0 max_price=3937187.0 mid_price=3910781.0\n",
            "INFO:DomainApi:min_price=3884375.0 max_price=3905781.0 mid_price=3895078.0\n",
            "INFO:DomainApi:min_price=3900078.0 max_price=3905781.0 mid_price=3902929.0\n",
            "INFO:DomainApi:stop min_price=3900078.0 max_price=3905781.0 mid_price=3902929.0\n"
          ],
          "name": "stderr"
        },
        {
          "output_type": "execute_result",
          "data": {
            "text/plain": [
              "(3902929.0, 2000000.0, 4000000.0)"
            ]
          },
          "metadata": {
            "tags": []
          },
          "execution_count": 329
        }
      ]
    },
    {
      "cell_type": "code",
      "metadata": {
        "id": "A8UuA1LjDfps",
        "colab_type": "code",
        "colab": {
          "base_uri": "https://localhost:8080/",
          "height": 187
        },
        "outputId": "1737fe7a-6ba4-4fa7-b2d0-c74c0c750eb6"
      },
      "source": [
        "#pd.set_option('display.max_colwidth', 150)\n",
        "prop.show_report()"
      ],
      "execution_count": 335,
      "outputs": [
        {
          "output_type": "display_data",
          "data": {
            "text/html": [
              "<table border=\"1\" class=\"dataframe\">\n",
              "  <thead>\n",
              "    <tr style=\"text-align: right;\">\n",
              "      <th></th>\n",
              "      <th></th>\n",
              "    </tr>\n",
              "  </thead>\n",
              "  <tbody>\n",
              "    <tr>\n",
              "      <th>address</th>\n",
              "      <td><a target=\"_blank\" href=\"https://www.domain.com.au/4-arabella-street-longueville-nsw-2066-2016308108\">4 Arabella Street, Longueville NSW 2066</a></td>\n",
              "    </tr>\n",
              "    <tr>\n",
              "      <th>estimate price</th>\n",
              "      <td>None</td>\n",
              "    </tr>\n",
              "    <tr>\n",
              "      <th>bed-bath-car</th>\n",
              "      <td>5-3-2</td>\n",
              "    </tr>\n",
              "    <tr>\n",
              "      <th>list_time</th>\n",
              "      <td>2020-06-11</td>\n",
              "    </tr>\n",
              "    <tr>\n",
              "      <th>summary</th>\n",
              "      <td>Private haven with flexible design and water views</td>\n",
              "    </tr>\n",
              "  </tbody>\n",
              "</table>"
            ],
            "text/plain": [
              "<IPython.core.display.HTML object>"
            ]
          },
          "metadata": {
            "tags": []
          }
        }
      ]
    },
    {
      "cell_type": "markdown",
      "metadata": {
        "id": "9KIhatVerUZJ",
        "colab_type": "text"
      },
      "source": [
        "## Coding Area"
      ]
    },
    {
      "cell_type": "code",
      "metadata": {
        "id": "bsJelcwdm5Cm",
        "colab_type": "code",
        "colab": {}
      },
      "source": [
        "import json\n",
        "import requests # this library is awesome: http://docs.python-requests.org/en/master/\n",
        "import re, string, timeit\n",
        "import time\n",
        "from collections import namedtuple\n",
        "import pandas as pd\n",
        "import numpy as np\n",
        "import math\n",
        "import sys, logging\n",
        "from IPython.display import display, HTML"
      ],
      "execution_count": 128,
      "outputs": []
    },
    {
      "cell_type": "code",
      "metadata": {
        "id": "ABsUaBYGBkni",
        "colab_type": "code",
        "colab": {}
      },
      "source": [
        "class Suburb(object):\n",
        "  def __init__(self, name, postcode, state='NSW'):\n",
        "    self.name = name\n",
        "    self.postcode = postcode\n",
        "    self.state = state\n",
        "\n",
        "class PropertyRange(object):\n",
        "  # bed/bath/car: \"3-4\" or \"3-\" (min) or \"-4\"\n",
        "  def __init__(self, bed=None, bath=None, car=None):\n",
        "    self.bed = bed\n",
        "    self.bath = bath\n",
        "    self.car = car\n",
        "\n",
        "PriceRange = namedtuple('PriceRange', 'min max')\n",
        "\n",
        "def parse_range_str(input):\n",
        "  if input[-1]==\"+\":\n",
        "    min = int(input[:-1])\n",
        "    max = None\n",
        "  elif input[-1]==\"-\":\n",
        "    min = None\n",
        "    max = int(input[:-1])\n",
        "  else:\n",
        "    result = input.split('-')\n",
        "    min = int(result[0])\n",
        "    max = int(result[1]) if len(result) >  1 else min\n",
        "  return min, max\n",
        "\n",
        "def update_price_criteria(criteria_dict, price_range):\n",
        "  if price_range.min:\n",
        "    criteria_dict.update({\"minPrice\": int(price_range.min)})\n",
        "  if price_range.max:\n",
        "    criteria_dict.update({\"maxPrice\": int(price_range.max)})\n",
        "  return criteria_dict\n",
        "\n",
        "def update_property_criteria(criteria_dict, property_range):\n",
        "  if property_range.bed:\n",
        "    min_bed, max_bed = parse_range_str(property_range.bed)\n",
        "    if min_bed : criteria_dict.update({\"minBedrooms\": min_bed})\n",
        "    if max_bed : criteria_dict.update({\"maxBedrooms\": max_bed})\n",
        "  if property_range.bath:\n",
        "    min_bath, max_bath = parse_range_str(property_range.bath)\n",
        "    if min_bath : criteria_dict.update({\"minBathrooms\": min_bath})\n",
        "    if max_bath : criteria_dict.update({\"maxBathrooms\": max_bath})\n",
        "  if property_range.car:\n",
        "    min_car, max_car = parse_range_str(property_range.car)\n",
        "    if min_car : criteria_dict.update({\"minCarspaces\": min_car})\n",
        "    if max_car : criteria_dict.update({\"maxCarspaces\": max_car})\n",
        "  return criteria_dict "
      ],
      "execution_count": 110,
      "outputs": []
    },
    {
      "cell_type": "code",
      "metadata": {
        "id": "gCoDUEaHo9aW",
        "colab_type": "code",
        "colab": {}
      },
      "source": [
        "def log(level, msg, *args, **kwargs):\n",
        "  logging.getLogger('DomainApi').log(level, msg, *args, **kwargs)\n",
        "\n",
        "def setLogLevel(level):\n",
        "  logging.getLogger('DomainApi').setLevel(level)\n",
        "  logging.getLogger('').setLevel(level)"
      ],
      "execution_count": 295,
      "outputs": []
    },
    {
      "cell_type": "code",
      "metadata": {
        "id": "I6CMneIqnuRj",
        "colab_type": "code",
        "colab": {}
      },
      "source": [
        "# domain account\n",
        "class SiteInfo:\n",
        "  client_id ='YOUR_CLIENT_ID'\n",
        "  client_secret = 'YOUR_CLIENT_SECRET'\n",
        "  token_url = 'https://auth.domain.com.au/v1/connect/token'\n",
        "  api_root_url = 'https://api.domain.com.au'\n",
        "  ep_listing_residential = '/v1/listings/residential/_search'\n",
        "  ep_prop_by_id = '/v1/listings/{id}'\n",
        "  ep_price_estimate = '/v1/properties/{id}/priceEstimate'"
      ],
      "execution_count": 112,
      "outputs": []
    },
    {
      "cell_type": "code",
      "metadata": {
        "id": "c331yEqBn2B1",
        "colab_type": "code",
        "colab": {}
      },
      "source": [
        "class DomainApiClient(object):\n",
        "  def __init__(self, site_info):\n",
        "    self._info = site_info\n",
        "    self._token = self.get_token()\n",
        "    self._auth = {\"Authorization\":\"Bearer \"+ self._token}\n",
        "  \n",
        "  def get_token(self):\n",
        "    r = requests.post(self._info.token_url, \n",
        "                             data = {'client_id':self._info.client_id,\n",
        "                                     \"client_secret\":self._info.client_secret,\n",
        "                                     \"grant_type\":\"client_credentials\",\n",
        "                                     \"scope\":\"api_listings_read\",\n",
        "                                     \"Content-Type\":\"text/json\"})\n",
        "    token = r.json()\n",
        "    return token['access_token']\n",
        "\n",
        "  def _get(self, url):\n",
        "    r = requests.get(url,headers=self._auth)\n",
        "    return r.json()\n",
        "\n",
        "  def get(self, end_point):\n",
        "    url = ''.join([self._info.api_root_url, end_point])\n",
        "    return self._get(url)\n",
        "\n",
        "  def _post(self, url, data):\n",
        "    r = requests.post(url, headers=self._auth, json=data)\n",
        "    return r.json()\n",
        "\n",
        "  def post(self, end_point, data):\n",
        "    url = ''.join([self._info.api_root_url, end_point])\n",
        "    return self._post(url, data)\n",
        "\n",
        "  def paged_post(self, end_point, data, on_paged_data=None):\n",
        "    max_page_size = 100\n",
        "    page_num = 1\n",
        "    total_items = 0\n",
        "    processed_items = 0\n",
        "    waiting_interval = 2\n",
        "    url = ''.join([self._info.api_root_url, end_point])\n",
        "    while page_num > 0:\n",
        "      data.update({\"pageNumber\": page_num, \"pageSize\": max_page_size})\n",
        "      r = requests.post(url, headers=self._auth, json=data)\n",
        "\n",
        "      if 'X-Total-Count' in r.headers and total_items < int(r.headers['X-Total-Count']):\n",
        "        total_items = int(r.headers['X-Total-Count']) # update total items\n",
        "\n",
        "      if on_paged_data:\n",
        "        on_paged_data(r.json())\n",
        "      \n",
        "      processed_items += len(r.json())      \n",
        "      page_num = page_num + 1 if processed_items < total_items else -1\n",
        "\n",
        "      log(logging.DEBUG, 'waiting %s seconds for next page: total=%s processed=%s page_num=%s', waiting_interval, total_items, processed_items, page_num)\n",
        "      time.sleep(waiting_interval)\n",
        "\n",
        "    return total_items, processed_items"
      ],
      "execution_count": 113,
      "outputs": []
    },
    {
      "cell_type": "code",
      "metadata": {
        "id": "b6b9Q7HN0ci1",
        "colab_type": "code",
        "colab": {}
      },
      "source": [
        "class DomainClient(DomainApiClient):\n",
        "  def __init__(self, site_info):\n",
        "    super().__init__(site_info)\n",
        "\n",
        "  def on_new_list_page(self, data):\n",
        "    log(logging.DEBUG, 'get new page:%s', len(data))\n",
        "    log(logging.DEBUG, 'new page data:%s', data)   \n",
        "\n",
        "    result = [extract_property_info(x) for x in data]\n",
        "    if self._cached_listing:\n",
        "      self._cached_listing.append(result)\n",
        "    else:\n",
        "      self._cached_listing = result\n",
        "\n",
        "  def property_detail(self,prop_id):\n",
        "    end_point = self._info.ep_prop_by_id.format(id=prop_id)\n",
        "    result = self.get(end_point)\n",
        "    ad = result['addressParts']\n",
        "    geo = result['geoLocation']    \n",
        "\n",
        "    return {'addr'    : ad['displayAddress'],\n",
        "            'sub'     : ad['suburb'],\n",
        "            'street'  : ad['street'],\n",
        "            'state'   : ad['stateAbbreviation'],\n",
        "            'postcode': ad['postcode'],\n",
        "            'bath'    : int(result['bathrooms']),\n",
        "            'bed'     : int(result['bedrooms']),\n",
        "            'car'     : int(result['carspaces']),\n",
        "            'list_time' : result['dateListed'][0:10],\n",
        "            'desc'    : result['description'],\n",
        "            'summary' : result['headline'],\n",
        "            'geo'     : [float(geo['latitude']), float(geo['longitude'])],\n",
        "            'url'     : result['seoUrl'],\n",
        "            'type'    : result['propertyTypes']\n",
        "    }\n",
        "\n",
        "  def prop_price_estimate(self, prop_id):\n",
        "    end_point = self._info.ep_price_estimate.format(id=prop_id)\n",
        "    result = self.get(end_point)\n",
        "    log(logging.DEBUG, 'get price_estimate %s', result)\n",
        "    try: low = result['lowerPrice']\n",
        "    except: low = None\n",
        "    try: high = result['upperPrice']\n",
        "    except: high = None\n",
        "    try: mid = result['midPrice']\n",
        "    except: mid = None\n",
        "    return PriceRange(min=low, max=high)\n",
        "\n",
        "  def listing(self, suburb, property_type = [\"House\"] ,price_range=None, property_range=None, expand_search=True):\n",
        "    data = {\"listingType\":\"Sale\",\n",
        "            \"propertyTypes\":property_type,\n",
        "    }\n",
        "    if price_range:\n",
        "      update_price_criteria(data, price_range)\n",
        "    if property_range:\n",
        "      update_property_criteria(data, property_range)\n",
        "    \n",
        "    data.update(            \n",
        "        {\"locations\":[\n",
        "              {\n",
        "                \"state\":suburb.state,\n",
        "                \"region\":\"\",\n",
        "                \"area\":\"\",\n",
        "                \"suburb\":suburb.name,\n",
        "                \"postCode\":suburb.postcode,\n",
        "                \"includeSurroundingSuburbs\":expand_search\n",
        "              }\n",
        "        ]}\n",
        "    )\n",
        "    return self.listing_by_criteria(data)\n",
        "\n",
        "  def listing_by_criteria(self, data):\n",
        "    log(logging.DEBUG, 'listing criteria:%s', data)\n",
        "    self._cached_listing = []  # clear list cache\n",
        "    end_point = self._info.ep_listing_residential\n",
        "    total, retrieved = self.paged_post(end_point, data, on_paged_data=self.on_new_list_page)\n",
        "    log(logging.DEBUG, 'total=%s, retrieved=%s, extracted=%s', total, retrieved, len(self._cached_listing))\n",
        "    return self._cached_listing\n"
      ],
      "execution_count": 204,
      "outputs": []
    },
    {
      "cell_type": "code",
      "metadata": {
        "id": "6vbsvnxydtxe",
        "colab_type": "code",
        "colab": {}
      },
      "source": [
        "def extract_property_info(data):  \n",
        "  prop = data['listing']\n",
        "  pid = prop['id']\n",
        "  #print(pid)\n",
        "  pd = prop['propertyDetails']\n",
        "  try: bed = int(pd['bedrooms'])\n",
        "  except: bed = None\n",
        "  try: car = int(pd['carspaces'])\n",
        "  except: car = None\n",
        "  try: bath = int(pd['bathrooms'])\n",
        "  except: bath = None\n",
        "  addr = pd['displayableAddress']\n",
        "  simple_addr = ''.join(addr.split(',')[:-1])\n",
        "  sub = pd['suburb']\n",
        "  url = 'https://www.domain.com.au/' + prop['listingSlug'] #https://www.domain.com.au/29-somerset-avenue-turramurra-nsw-2074-2016308815  \n",
        "  clickable_addr = '<a target=\"_blank\" href=\"{}\">{}</a>'.format(url, simple_addr)\n",
        "  latitude = pd['latitude']\n",
        "  longitude = pd['longitude']\n",
        "  #postcode= pd ['postcode']\n",
        "  gas = 'Y' if 'Gas' in pd['features'] else 'N'\n",
        "  pool = 'Y' if 'SwimmingPool' in pd['features'] else 'N'\n",
        "  try: area = int(math.floor(pd['landArea']))\n",
        "  except: area = None\n",
        "  try: auction = prop['auctionSchedule']['time'][5:16]\n",
        "  except: auction = None\n",
        "  try: inspection = prop['inspectionSchedule']['times'][0]['openingTime'][5:15] \n",
        "  except: inspection=None  \n",
        "  try: price = prop['priceDetails']['displayPrice'] \n",
        "  except: price=None\n",
        "  return [pid, simple_addr, area, bed, car, bath, gas, pool, price, auction, inspection, url, sub, latitude, longitude]\n",
        "  "
      ],
      "execution_count": 115,
      "outputs": []
    },
    {
      "cell_type": "code",
      "metadata": {
        "id": "P9RVkGw2WDEj",
        "colab_type": "code",
        "colab": {}
      },
      "source": [
        "def process_properties(listing_result):\n",
        "  result = [extract_property_info(x) for x in listing_result]\n",
        "  return result\n",
        "\n",
        "def make_clickable(val):\n",
        "  # target _blank to open new window  \n",
        "  return '<a target=\"_blank\" href=\"{}\">{}</a>'.format(val[0], val[1])\n",
        "\n",
        "def create_hyperlink(url, val):\n",
        "  # target _blank to open new window  \n",
        "  return '<a target=\"_blank\" href=\"{}\">{}</a>'.format(url, val)\n",
        "\n",
        "def hyperlink_addr(addr):\n",
        "  if isinstance(addr, str) and '@' in addr:\n",
        "    val, url = addr.split('@')\n",
        "    return '<a target=\"_blank\" href=\"{}\">{}</a>'.format(url, val)\n",
        "  else:\n",
        "    return addr\n",
        "\n",
        "def to_dataframe(prop_list):\n",
        "  labels = ['pid', 'addr','area', 'bed', 'car', 'bath', 'gas', 'pool', 'price', 'auction', 'inspect', 'url', 'sub', 'latitude','longitude']\n",
        "  df = pd.DataFrame.from_records(prop_list, columns=labels)\n",
        "  df.set_index('pid', inplace=True)\n",
        "  return df\n",
        "\n",
        "def to_table(df):  \n",
        "  _df = df.copy()\n",
        "  #_df['addr'] = _df[['addr','url']].agg('@'.join, axis=1)\n",
        "  _df['addr'] = _df[['url','addr']].agg(make_clickable, axis=1)\n",
        "  _df.drop(columns=['url'], inplace=True)  \n",
        "  #_df = _df.style.format({'addr': hyperlink_addr, 'area':\"{:.0f}\", 'bed':\"{:.0f}\",'car':\"{:.0f}\", 'bath':\"{:.0f}\"})\n",
        "  html = HTML(_df.to_html(escape=False)) \n",
        "  display(html)"
      ],
      "execution_count": 318,
      "outputs": []
    },
    {
      "cell_type": "code",
      "metadata": {
        "id": "_iWWY6u62o0s",
        "colab_type": "code",
        "colab": {}
      },
      "source": [
        "class PropertyReport(object):\n",
        "  def __init__(self, client, id):\n",
        "    self.prop_id = id\n",
        "    self.client = client\n",
        "    self.prop_info = self.client.property_detail(self.prop_id)\n",
        "    self.estimate_price = None\n",
        "\n",
        "  def get_list_in_price_range(self, min_price, max_price):\n",
        "    criteria = {\n",
        "      \"listingType\":\"Sale\",\n",
        "      \"minPrice\":int(min_price),\n",
        "      \"maxPrice\":int(max_price),\n",
        "      \"propertyTypes\":self.prop_info['type'],\n",
        "      \"minBedrooms\":self.prop_info['bed'],\n",
        "      \"maxBedrooms\":self.prop_info['bed'],\n",
        "      \"minBathrooms\":self.prop_info['bath'],\n",
        "      \"maxBathrooms\":self.prop_info['bath'],\n",
        "      \"minCarspaces\":self.prop_info['car'],\n",
        "      \"maxCarspaces\":self.prop_info['car'],\n",
        "      \"locations\":[\n",
        "        {\n",
        "          \"state\":self.prop_info['state'],\n",
        "          \"region\":\"\",\n",
        "          \"area\":\"\",\n",
        "          \"suburb\":self.prop_info['sub'],\n",
        "          \"postCode\":self.prop_info['postcode'],\n",
        "          \"includeSurroundingSuburbs\":False\n",
        "        }\n",
        "      ]\n",
        "    }\n",
        "    result = self.client.listing_by_criteria(criteria)\n",
        "    ids = [x[0] for x in result]\n",
        "    return ids\n",
        "\n",
        "  def check_price(self, price_range=None, price_step=5000):\n",
        "    if price_range is None:\n",
        "      price_range = self.client.prop_price_estimate(self.prop_id)\n",
        " \n",
        "    min_price = price_range.min if price_range.min else 0\n",
        "    max_price = price_range.max if price_range.max else 0\n",
        "    mid_price = None\n",
        "    log(logging.INFO, 'start min_price=%s max_price=%s', min_price, max_price)\n",
        "\n",
        "    while(min_price and max_price and min_price < max_price):\n",
        "      mid_price = min_price + int((max_price - min_price)/2)\n",
        "      log(logging.INFO, 'min_price=%s max_price=%s mid_price=%s', min_price, max_price, mid_price)\n",
        "      low_list = self.get_list_in_price_range(min_price, mid_price)\n",
        "      if low_list and self.prop_id in low_list:\n",
        "        max_price = mid_price - price_step\n",
        "      else:\n",
        "        high_list = self.get_list_in_price_range(mid_price, max_price)\n",
        "        if high_list and self.prop_id in high_list:\n",
        "          min_price = mid_price + price_step\n",
        "        else:\n",
        "          log(logging.INFO, 'stop min_price=%s max_price=%s mid_price=%s', min_price, max_price, mid_price)\n",
        "          break\n",
        "\n",
        "    self.estimate_price = mid_price\n",
        "    return mid_price, price_range.min, price_range.max\n",
        "\n",
        "  def show_report(self):\n",
        "    report = {\n",
        "        'address' : create_hyperlink(self.prop_info['url'],self.prop_info['addr']),\n",
        "        'estimate price' : '{:,}'.format(self.estimate_price) if self.estimate_price else None,\n",
        "        'bed-bath-car' : '{bed}-{bath}-{car}'.format(bed=self.prop_info['bed'],bath=self.prop_info['bath'],car=self.prop_info['car']),\n",
        "        'list_time': self.prop_info['list_time'],\n",
        "        'summary' : self.prop_info['summary'],\n",
        "        #'decription':'<br>'.join(self.prop_info['desc'].split('.')),\n",
        "    }\n",
        "    col_name=''\n",
        "    df = pd.DataFrame.from_dict(data=report, orient='index', columns=[col_name])\n",
        "    html = HTML(df.to_html(escape=False))    \n",
        "    display(html)  "
      ],
      "execution_count": 333,
      "outputs": []
    },
    {
      "cell_type": "markdown",
      "metadata": {
        "id": "1mCbDfCprPle",
        "colab_type": "text"
      },
      "source": [
        "## DEUBG Area"
      ]
    },
    {
      "cell_type": "code",
      "metadata": {
        "id": "zZez1O3K-x4E",
        "colab_type": "code",
        "colab": {}
      },
      "source": [
        "a={'bed':1, 'show':'dfa<br>dfadgfdgagdfa', 'next':'{num:,.0f}'.format(num=2222), 'text':'<a href=\"{0}\">link</a>'.format('https://colab.research.google.com/')}\n",
        "df=pd.DataFrame.from_dict(data=a, orient='index', columns=[''])"
      ],
      "execution_count": 311,
      "outputs": []
    },
    {
      "cell_type": "code",
      "metadata": {
        "id": "bAENZuggVLCY",
        "colab_type": "code",
        "colab": {
          "base_uri": "https://localhost:8080/",
          "height": 173
        },
        "outputId": "c7ec2c29-e70a-43f3-fcce-e570444bd126"
      },
      "source": [
        "display(HTML(df.to_html(escape=False)))\n"
      ],
      "execution_count": 312,
      "outputs": [
        {
          "output_type": "display_data",
          "data": {
            "text/html": [
              "<table border=\"1\" class=\"dataframe\">\n",
              "  <thead>\n",
              "    <tr style=\"text-align: right;\">\n",
              "      <th></th>\n",
              "      <th></th>\n",
              "    </tr>\n",
              "  </thead>\n",
              "  <tbody>\n",
              "    <tr>\n",
              "      <th>bed</th>\n",
              "      <td>1</td>\n",
              "    </tr>\n",
              "    <tr>\n",
              "      <th>show</th>\n",
              "      <td>dfa<br>dfadgfdgagdfa</td>\n",
              "    </tr>\n",
              "    <tr>\n",
              "      <th>next</th>\n",
              "      <td>2,222</td>\n",
              "    </tr>\n",
              "    <tr>\n",
              "      <th>text</th>\n",
              "      <td><a href=\"https://colab.research.google.com/\">link</a></td>\n",
              "    </tr>\n",
              "  </tbody>\n",
              "</table>"
            ],
            "text/plain": [
              "<IPython.core.display.HTML object>"
            ]
          },
          "metadata": {
            "tags": []
          }
        }
      ]
    },
    {
      "cell_type": "code",
      "metadata": {
        "id": "yqum-Ctr_ggw",
        "colab_type": "code",
        "colab": {
          "base_uri": "https://localhost:8080/",
          "height": 180
        },
        "outputId": "e99f433d-b54f-44aa-e582-a4a62fb19365"
      },
      "source": [
        "prop_id = '2016290780'\n",
        "prop_info = client.property_detail(prop_id)"
      ],
      "execution_count": null,
      "outputs": [
        {
          "output_type": "error",
          "ename": "AttributeError",
          "evalue": "ignored",
          "traceback": [
            "\u001b[0;31m---------------------------------------------------------------------------\u001b[0m",
            "\u001b[0;31mAttributeError\u001b[0m                            Traceback (most recent call last)",
            "\u001b[0;32m<ipython-input-96-b266e8ef1b54>\u001b[0m in \u001b[0;36m<module>\u001b[0;34m()\u001b[0m\n\u001b[1;32m      1\u001b[0m \u001b[0mprop_id\u001b[0m \u001b[0;34m=\u001b[0m \u001b[0;34m'2016290780'\u001b[0m\u001b[0;34m\u001b[0m\u001b[0;34m\u001b[0m\u001b[0m\n\u001b[0;32m----> 2\u001b[0;31m \u001b[0mprop_info\u001b[0m \u001b[0;34m=\u001b[0m \u001b[0mclient\u001b[0m\u001b[0;34m.\u001b[0m\u001b[0mproperty_detail\u001b[0m\u001b[0;34m(\u001b[0m\u001b[0mprop_id\u001b[0m\u001b[0;34m)\u001b[0m\u001b[0;34m\u001b[0m\u001b[0;34m\u001b[0m\u001b[0m\n\u001b[0m",
            "\u001b[0;31mAttributeError\u001b[0m: 'DomainClient' object has no attribute 'property_detail'"
          ]
        }
      ]
    },
    {
      "cell_type": "code",
      "metadata": {
        "id": "sRUfUWENxDvp",
        "colab_type": "code",
        "colab": {
          "base_uri": "https://localhost:8080/",
          "height": 34
        },
        "outputId": "eef8a881-be71-4979-af20-fd3bff691af2"
      },
      "source": [
        "a=2.5e6\n",
        "a"
      ],
      "execution_count": null,
      "outputs": [
        {
          "output_type": "execute_result",
          "data": {
            "text/plain": [
              "2500000.0"
            ]
          },
          "metadata": {
            "tags": []
          },
          "execution_count": 12
        }
      ]
    },
    {
      "cell_type": "code",
      "metadata": {
        "id": "0YKQWsuXq318",
        "colab_type": "code",
        "colab": {
          "base_uri": "https://localhost:8080/",
          "height": 306
        },
        "outputId": "b5eb5549-3654-45c8-e2a1-3d272f717c68"
      },
      "source": [
        "prop_list = process_properties(sub_list)"
      ],
      "execution_count": null,
      "outputs": [
        {
          "output_type": "error",
          "ename": "TypeError",
          "evalue": "ignored",
          "traceback": [
            "\u001b[0;31m---------------------------------------------------------------------------\u001b[0m",
            "\u001b[0;31mTypeError\u001b[0m                                 Traceback (most recent call last)",
            "\u001b[0;32m<ipython-input-78-fec711884f06>\u001b[0m in \u001b[0;36m<module>\u001b[0;34m()\u001b[0m\n\u001b[0;32m----> 1\u001b[0;31m \u001b[0mprop_list\u001b[0m \u001b[0;34m=\u001b[0m \u001b[0mprocess_properties\u001b[0m\u001b[0;34m(\u001b[0m\u001b[0msub_list\u001b[0m\u001b[0;34m)\u001b[0m\u001b[0;34m\u001b[0m\u001b[0;34m\u001b[0m\u001b[0m\n\u001b[0m",
            "\u001b[0;32m<ipython-input-77-0984a15d789f>\u001b[0m in \u001b[0;36mprocess_properties\u001b[0;34m(listing_result)\u001b[0m\n\u001b[1;32m      1\u001b[0m \u001b[0;32mdef\u001b[0m \u001b[0mprocess_properties\u001b[0m\u001b[0;34m(\u001b[0m\u001b[0mlisting_result\u001b[0m\u001b[0;34m)\u001b[0m\u001b[0;34m:\u001b[0m\u001b[0;34m\u001b[0m\u001b[0;34m\u001b[0m\u001b[0m\n\u001b[0;32m----> 2\u001b[0;31m   \u001b[0mresult\u001b[0m \u001b[0;34m=\u001b[0m \u001b[0;34m[\u001b[0m\u001b[0mextract_property_info\u001b[0m\u001b[0;34m(\u001b[0m\u001b[0mx\u001b[0m\u001b[0;34m)\u001b[0m \u001b[0;32mfor\u001b[0m \u001b[0mx\u001b[0m \u001b[0;32min\u001b[0m \u001b[0mlisting_result\u001b[0m\u001b[0;34m]\u001b[0m\u001b[0;34m\u001b[0m\u001b[0;34m\u001b[0m\u001b[0m\n\u001b[0m\u001b[1;32m      3\u001b[0m   \u001b[0;32mreturn\u001b[0m \u001b[0mresult\u001b[0m\u001b[0;34m\u001b[0m\u001b[0;34m\u001b[0m\u001b[0m\n\u001b[1;32m      4\u001b[0m \u001b[0;34m\u001b[0m\u001b[0m\n\u001b[1;32m      5\u001b[0m \u001b[0;32mdef\u001b[0m \u001b[0mmake_clickable\u001b[0m\u001b[0;34m(\u001b[0m\u001b[0mval\u001b[0m\u001b[0;34m)\u001b[0m\u001b[0;34m:\u001b[0m\u001b[0;34m\u001b[0m\u001b[0;34m\u001b[0m\u001b[0m\n",
            "\u001b[0;32m<ipython-input-77-0984a15d789f>\u001b[0m in \u001b[0;36m<listcomp>\u001b[0;34m(.0)\u001b[0m\n\u001b[1;32m      1\u001b[0m \u001b[0;32mdef\u001b[0m \u001b[0mprocess_properties\u001b[0m\u001b[0;34m(\u001b[0m\u001b[0mlisting_result\u001b[0m\u001b[0;34m)\u001b[0m\u001b[0;34m:\u001b[0m\u001b[0;34m\u001b[0m\u001b[0;34m\u001b[0m\u001b[0m\n\u001b[0;32m----> 2\u001b[0;31m   \u001b[0mresult\u001b[0m \u001b[0;34m=\u001b[0m \u001b[0;34m[\u001b[0m\u001b[0mextract_property_info\u001b[0m\u001b[0;34m(\u001b[0m\u001b[0mx\u001b[0m\u001b[0;34m)\u001b[0m \u001b[0;32mfor\u001b[0m \u001b[0mx\u001b[0m \u001b[0;32min\u001b[0m \u001b[0mlisting_result\u001b[0m\u001b[0;34m]\u001b[0m\u001b[0;34m\u001b[0m\u001b[0;34m\u001b[0m\u001b[0m\n\u001b[0m\u001b[1;32m      3\u001b[0m   \u001b[0;32mreturn\u001b[0m \u001b[0mresult\u001b[0m\u001b[0;34m\u001b[0m\u001b[0;34m\u001b[0m\u001b[0m\n\u001b[1;32m      4\u001b[0m \u001b[0;34m\u001b[0m\u001b[0m\n\u001b[1;32m      5\u001b[0m \u001b[0;32mdef\u001b[0m \u001b[0mmake_clickable\u001b[0m\u001b[0;34m(\u001b[0m\u001b[0mval\u001b[0m\u001b[0;34m)\u001b[0m\u001b[0;34m:\u001b[0m\u001b[0;34m\u001b[0m\u001b[0;34m\u001b[0m\u001b[0m\n",
            "\u001b[0;32m<ipython-input-76-1f0eb70031ee>\u001b[0m in \u001b[0;36mextract_property_info\u001b[0;34m(data)\u001b[0m\n\u001b[1;32m      1\u001b[0m \u001b[0;32mdef\u001b[0m \u001b[0mextract_property_info\u001b[0m\u001b[0;34m(\u001b[0m\u001b[0mdata\u001b[0m\u001b[0;34m)\u001b[0m\u001b[0;34m:\u001b[0m\u001b[0;34m\u001b[0m\u001b[0;34m\u001b[0m\u001b[0m\n\u001b[0;32m----> 2\u001b[0;31m   \u001b[0mprop\u001b[0m \u001b[0;34m=\u001b[0m \u001b[0mdata\u001b[0m\u001b[0;34m[\u001b[0m\u001b[0;34m'listing'\u001b[0m\u001b[0;34m]\u001b[0m\u001b[0;34m\u001b[0m\u001b[0;34m\u001b[0m\u001b[0m\n\u001b[0m\u001b[1;32m      3\u001b[0m   \u001b[0mpid\u001b[0m \u001b[0;34m=\u001b[0m \u001b[0mprop\u001b[0m\u001b[0;34m[\u001b[0m\u001b[0;34m'id'\u001b[0m\u001b[0;34m]\u001b[0m\u001b[0;34m\u001b[0m\u001b[0;34m\u001b[0m\u001b[0m\n\u001b[1;32m      4\u001b[0m   \u001b[0;31m#print(pid)\u001b[0m\u001b[0;34m\u001b[0m\u001b[0;34m\u001b[0m\u001b[0;34m\u001b[0m\u001b[0m\n\u001b[1;32m      5\u001b[0m   \u001b[0mpd\u001b[0m \u001b[0;34m=\u001b[0m \u001b[0mprop\u001b[0m\u001b[0;34m[\u001b[0m\u001b[0;34m'propertyDetails'\u001b[0m\u001b[0;34m]\u001b[0m\u001b[0;34m\u001b[0m\u001b[0;34m\u001b[0m\u001b[0m\n",
            "\u001b[0;31mTypeError\u001b[0m: list indices must be integers or slices, not str"
          ]
        }
      ]
    },
    {
      "cell_type": "code",
      "metadata": {
        "id": "ObCfnwAtxUU8",
        "colab_type": "code",
        "colab": {}
      },
      "source": [
        "df_prop = to_table(prop_list)"
      ],
      "execution_count": null,
      "outputs": []
    },
    {
      "cell_type": "code",
      "metadata": {
        "id": "rzL8tlnPyAmb",
        "colab_type": "code",
        "colab": {
          "base_uri": "https://localhost:8080/",
          "height": 271
        },
        "outputId": "679e91eb-b420-4e7e-df64-40c93bba34fd"
      },
      "source": [
        "df_prop"
      ],
      "execution_count": null,
      "outputs": [
        {
          "output_type": "execute_result",
          "data": {
            "text/html": [
              "<style  type=\"text/css\" >\n",
              "</style><table id=\"T_2cb24b88_adb8_11ea_98b9_0242ac1c0002\" ><thead>    <tr>        <th class=\"blank level0\" ></th>        <th class=\"col_heading level0 col0\" >addr</th>        <th class=\"col_heading level0 col1\" >area</th>        <th class=\"col_heading level0 col2\" >bed</th>        <th class=\"col_heading level0 col3\" >car</th>        <th class=\"col_heading level0 col4\" >bath</th>        <th class=\"col_heading level0 col5\" >gas</th>        <th class=\"col_heading level0 col6\" >pool</th>        <th class=\"col_heading level0 col7\" >price</th>        <th class=\"col_heading level0 col8\" >auction</th>        <th class=\"col_heading level0 col9\" >inspect</th>        <th class=\"col_heading level0 col10\" >latitude</th>        <th class=\"col_heading level0 col11\" >longitude</th>    </tr>    <tr>        <th class=\"index_name level0\" >pid</th>        <th class=\"blank\" ></th>        <th class=\"blank\" ></th>        <th class=\"blank\" ></th>        <th class=\"blank\" ></th>        <th class=\"blank\" ></th>        <th class=\"blank\" ></th>        <th class=\"blank\" ></th>        <th class=\"blank\" ></th>        <th class=\"blank\" ></th>        <th class=\"blank\" ></th>        <th class=\"blank\" ></th>        <th class=\"blank\" ></th>    </tr></thead><tbody>\n",
              "                <tr>\n",
              "                        <th id=\"T_2cb24b88_adb8_11ea_98b9_0242ac1c0002level0_row0\" class=\"row_heading level0 row0\" >2016308815</th>\n",
              "                        <td id=\"T_2cb24b88_adb8_11ea_98b9_0242ac1c0002row0_col0\" class=\"data row0 col0\" ><a target=\"_blank\" href=\"https://www.domain.com.au/29-somerset-avenue-turramurra-nsw-2074-2016308815\">29 Somerset Avenue</a></td>\n",
              "                        <td id=\"T_2cb24b88_adb8_11ea_98b9_0242ac1c0002row0_col1\" class=\"data row0 col1\" >936</td>\n",
              "                        <td id=\"T_2cb24b88_adb8_11ea_98b9_0242ac1c0002row0_col2\" class=\"data row0 col2\" >5</td>\n",
              "                        <td id=\"T_2cb24b88_adb8_11ea_98b9_0242ac1c0002row0_col3\" class=\"data row0 col3\" >2</td>\n",
              "                        <td id=\"T_2cb24b88_adb8_11ea_98b9_0242ac1c0002row0_col4\" class=\"data row0 col4\" >2</td>\n",
              "                        <td id=\"T_2cb24b88_adb8_11ea_98b9_0242ac1c0002row0_col5\" class=\"data row0 col5\" >N</td>\n",
              "                        <td id=\"T_2cb24b88_adb8_11ea_98b9_0242ac1c0002row0_col6\" class=\"data row0 col6\" >Y</td>\n",
              "                        <td id=\"T_2cb24b88_adb8_11ea_98b9_0242ac1c0002row0_col7\" class=\"data row0 col7\" >Auction Saturday 4 July, 12pm</td>\n",
              "                        <td id=\"T_2cb24b88_adb8_11ea_98b9_0242ac1c0002row0_col8\" class=\"data row0 col8\" >07-04T12:00</td>\n",
              "                        <td id=\"T_2cb24b88_adb8_11ea_98b9_0242ac1c0002row0_col9\" class=\"data row0 col9\" >06-17T11:0</td>\n",
              "                        <td id=\"T_2cb24b88_adb8_11ea_98b9_0242ac1c0002row0_col10\" class=\"data row0 col10\" >-33.712933</td>\n",
              "                        <td id=\"T_2cb24b88_adb8_11ea_98b9_0242ac1c0002row0_col11\" class=\"data row0 col11\" >151.152908</td>\n",
              "            </tr>\n",
              "            <tr>\n",
              "                        <th id=\"T_2cb24b88_adb8_11ea_98b9_0242ac1c0002level0_row1\" class=\"row_heading level0 row1\" >2016308837</th>\n",
              "                        <td id=\"T_2cb24b88_adb8_11ea_98b9_0242ac1c0002row1_col0\" class=\"data row1 col0\" ><a target=\"_blank\" href=\"https://www.domain.com.au/80-the-chase-road-turramurra-nsw-2074-2016308837\">80 The Chase Road</a></td>\n",
              "                        <td id=\"T_2cb24b88_adb8_11ea_98b9_0242ac1c0002row1_col1\" class=\"data row1 col1\" >929</td>\n",
              "                        <td id=\"T_2cb24b88_adb8_11ea_98b9_0242ac1c0002row1_col2\" class=\"data row1 col2\" >3</td>\n",
              "                        <td id=\"T_2cb24b88_adb8_11ea_98b9_0242ac1c0002row1_col3\" class=\"data row1 col3\" >1</td>\n",
              "                        <td id=\"T_2cb24b88_adb8_11ea_98b9_0242ac1c0002row1_col4\" class=\"data row1 col4\" >1</td>\n",
              "                        <td id=\"T_2cb24b88_adb8_11ea_98b9_0242ac1c0002row1_col5\" class=\"data row1 col5\" >N</td>\n",
              "                        <td id=\"T_2cb24b88_adb8_11ea_98b9_0242ac1c0002row1_col6\" class=\"data row1 col6\" >Y</td>\n",
              "                        <td id=\"T_2cb24b88_adb8_11ea_98b9_0242ac1c0002row1_col7\" class=\"data row1 col7\" >Auction Saturday 4 July, 2pm</td>\n",
              "                        <td id=\"T_2cb24b88_adb8_11ea_98b9_0242ac1c0002row1_col8\" class=\"data row1 col8\" >07-04T14:00</td>\n",
              "                        <td id=\"T_2cb24b88_adb8_11ea_98b9_0242ac1c0002row1_col9\" class=\"data row1 col9\" >06-17T15:0</td>\n",
              "                        <td id=\"T_2cb24b88_adb8_11ea_98b9_0242ac1c0002row1_col10\" class=\"data row1 col10\" >-33.720310</td>\n",
              "                        <td id=\"T_2cb24b88_adb8_11ea_98b9_0242ac1c0002row1_col11\" class=\"data row1 col11\" >151.139435</td>\n",
              "            </tr>\n",
              "            <tr>\n",
              "                        <th id=\"T_2cb24b88_adb8_11ea_98b9_0242ac1c0002level0_row2\" class=\"row_heading level0 row2\" >2016308959</th>\n",
              "                        <td id=\"T_2cb24b88_adb8_11ea_98b9_0242ac1c0002row2_col0\" class=\"data row2 col0\" ><a target=\"_blank\" href=\"https://www.domain.com.au/5-stratton-place-turramurra-nsw-2074-2016308959\">5 Stratton Place</a></td>\n",
              "                        <td id=\"T_2cb24b88_adb8_11ea_98b9_0242ac1c0002row2_col1\" class=\"data row2 col1\" >nan</td>\n",
              "                        <td id=\"T_2cb24b88_adb8_11ea_98b9_0242ac1c0002row2_col2\" class=\"data row2 col2\" >3</td>\n",
              "                        <td id=\"T_2cb24b88_adb8_11ea_98b9_0242ac1c0002row2_col3\" class=\"data row2 col3\" >2</td>\n",
              "                        <td id=\"T_2cb24b88_adb8_11ea_98b9_0242ac1c0002row2_col4\" class=\"data row2 col4\" >2</td>\n",
              "                        <td id=\"T_2cb24b88_adb8_11ea_98b9_0242ac1c0002row2_col5\" class=\"data row2 col5\" >Y</td>\n",
              "                        <td id=\"T_2cb24b88_adb8_11ea_98b9_0242ac1c0002row2_col6\" class=\"data row2 col6\" >Y</td>\n",
              "                        <td id=\"T_2cb24b88_adb8_11ea_98b9_0242ac1c0002row2_col7\" class=\"data row2 col7\" >For Sale Contact Agent</td>\n",
              "                        <td id=\"T_2cb24b88_adb8_11ea_98b9_0242ac1c0002row2_col8\" class=\"data row2 col8\" >None</td>\n",
              "                        <td id=\"T_2cb24b88_adb8_11ea_98b9_0242ac1c0002row2_col9\" class=\"data row2 col9\" >06-17T13:0</td>\n",
              "                        <td id=\"T_2cb24b88_adb8_11ea_98b9_0242ac1c0002row2_col10\" class=\"data row2 col10\" >-33.691250</td>\n",
              "                        <td id=\"T_2cb24b88_adb8_11ea_98b9_0242ac1c0002row2_col11\" class=\"data row2 col11\" >151.149628</td>\n",
              "            </tr>\n",
              "            <tr>\n",
              "                        <th id=\"T_2cb24b88_adb8_11ea_98b9_0242ac1c0002level0_row3\" class=\"row_heading level0 row3\" >2016307572</th>\n",
              "                        <td id=\"T_2cb24b88_adb8_11ea_98b9_0242ac1c0002row3_col0\" class=\"data row3 col0\" ><a target=\"_blank\" href=\"https://www.domain.com.au/38-maxwell-street-turramurra-nsw-2074-2016307572\">38 Maxwell Street</a></td>\n",
              "                        <td id=\"T_2cb24b88_adb8_11ea_98b9_0242ac1c0002row3_col1\" class=\"data row3 col1\" >956</td>\n",
              "                        <td id=\"T_2cb24b88_adb8_11ea_98b9_0242ac1c0002row3_col2\" class=\"data row3 col2\" >3</td>\n",
              "                        <td id=\"T_2cb24b88_adb8_11ea_98b9_0242ac1c0002row3_col3\" class=\"data row3 col3\" >2</td>\n",
              "                        <td id=\"T_2cb24b88_adb8_11ea_98b9_0242ac1c0002row3_col4\" class=\"data row3 col4\" >2</td>\n",
              "                        <td id=\"T_2cb24b88_adb8_11ea_98b9_0242ac1c0002row3_col5\" class=\"data row3 col5\" >Y</td>\n",
              "                        <td id=\"T_2cb24b88_adb8_11ea_98b9_0242ac1c0002row3_col6\" class=\"data row3 col6\" >N</td>\n",
              "                        <td id=\"T_2cb24b88_adb8_11ea_98b9_0242ac1c0002row3_col7\" class=\"data row3 col7\" >Auction Saturday 4 July at 2.15pm</td>\n",
              "                        <td id=\"T_2cb24b88_adb8_11ea_98b9_0242ac1c0002row3_col8\" class=\"data row3 col8\" >None</td>\n",
              "                        <td id=\"T_2cb24b88_adb8_11ea_98b9_0242ac1c0002row3_col9\" class=\"data row3 col9\" >06-13T13:3</td>\n",
              "                        <td id=\"T_2cb24b88_adb8_11ea_98b9_0242ac1c0002row3_col10\" class=\"data row3 col10\" >-33.749874</td>\n",
              "                        <td id=\"T_2cb24b88_adb8_11ea_98b9_0242ac1c0002row3_col11\" class=\"data row3 col11\" >151.114300</td>\n",
              "            </tr>\n",
              "            <tr>\n",
              "                        <th id=\"T_2cb24b88_adb8_11ea_98b9_0242ac1c0002level0_row4\" class=\"row_heading level0 row4\" >2016284956</th>\n",
              "                        <td id=\"T_2cb24b88_adb8_11ea_98b9_0242ac1c0002row4_col0\" class=\"data row4 col0\" ><a target=\"_blank\" href=\"https://www.domain.com.au/29-murdoch-street-turramurra-nsw-2074-2016284956\">29 Murdoch Street</a></td>\n",
              "                        <td id=\"T_2cb24b88_adb8_11ea_98b9_0242ac1c0002row4_col1\" class=\"data row4 col1\" >nan</td>\n",
              "                        <td id=\"T_2cb24b88_adb8_11ea_98b9_0242ac1c0002row4_col2\" class=\"data row4 col2\" >4</td>\n",
              "                        <td id=\"T_2cb24b88_adb8_11ea_98b9_0242ac1c0002row4_col3\" class=\"data row4 col3\" >2</td>\n",
              "                        <td id=\"T_2cb24b88_adb8_11ea_98b9_0242ac1c0002row4_col4\" class=\"data row4 col4\" >2</td>\n",
              "                        <td id=\"T_2cb24b88_adb8_11ea_98b9_0242ac1c0002row4_col5\" class=\"data row4 col5\" >N</td>\n",
              "                        <td id=\"T_2cb24b88_adb8_11ea_98b9_0242ac1c0002row4_col6\" class=\"data row4 col6\" >N</td>\n",
              "                        <td id=\"T_2cb24b88_adb8_11ea_98b9_0242ac1c0002row4_col7\" class=\"data row4 col7\" >Sold Off Market</td>\n",
              "                        <td id=\"T_2cb24b88_adb8_11ea_98b9_0242ac1c0002row4_col8\" class=\"data row4 col8\" >None</td>\n",
              "                        <td id=\"T_2cb24b88_adb8_11ea_98b9_0242ac1c0002row4_col9\" class=\"data row4 col9\" >None</td>\n",
              "                        <td id=\"T_2cb24b88_adb8_11ea_98b9_0242ac1c0002row4_col10\" class=\"data row4 col10\" >-33.725185</td>\n",
              "                        <td id=\"T_2cb24b88_adb8_11ea_98b9_0242ac1c0002row4_col11\" class=\"data row4 col11\" >151.145538</td>\n",
              "            </tr>\n",
              "            <tr>\n",
              "                        <th id=\"T_2cb24b88_adb8_11ea_98b9_0242ac1c0002level0_row5\" class=\"row_heading level0 row5\" >2016247434</th>\n",
              "                        <td id=\"T_2cb24b88_adb8_11ea_98b9_0242ac1c0002row5_col0\" class=\"data row5 col0\" ><a target=\"_blank\" href=\"https://www.domain.com.au/53-kissing-point-road-turramurra-nsw-2074-2016247434\">53 Kissing Point Road</a></td>\n",
              "                        <td id=\"T_2cb24b88_adb8_11ea_98b9_0242ac1c0002row5_col1\" class=\"data row5 col1\" >918</td>\n",
              "                        <td id=\"T_2cb24b88_adb8_11ea_98b9_0242ac1c0002row5_col2\" class=\"data row5 col2\" >4</td>\n",
              "                        <td id=\"T_2cb24b88_adb8_11ea_98b9_0242ac1c0002row5_col3\" class=\"data row5 col3\" >1</td>\n",
              "                        <td id=\"T_2cb24b88_adb8_11ea_98b9_0242ac1c0002row5_col4\" class=\"data row5 col4\" >2</td>\n",
              "                        <td id=\"T_2cb24b88_adb8_11ea_98b9_0242ac1c0002row5_col5\" class=\"data row5 col5\" >N</td>\n",
              "                        <td id=\"T_2cb24b88_adb8_11ea_98b9_0242ac1c0002row5_col6\" class=\"data row5 col6\" >N</td>\n",
              "                        <td id=\"T_2cb24b88_adb8_11ea_98b9_0242ac1c0002row5_col7\" class=\"data row5 col7\" >AUCTION | Price Guide $1,850,000</td>\n",
              "                        <td id=\"T_2cb24b88_adb8_11ea_98b9_0242ac1c0002row5_col8\" class=\"data row5 col8\" >06-20T11:00</td>\n",
              "                        <td id=\"T_2cb24b88_adb8_11ea_98b9_0242ac1c0002row5_col9\" class=\"data row5 col9\" >06-13T13:1</td>\n",
              "                        <td id=\"T_2cb24b88_adb8_11ea_98b9_0242ac1c0002row5_col10\" class=\"data row5 col10\" >-33.738216</td>\n",
              "                        <td id=\"T_2cb24b88_adb8_11ea_98b9_0242ac1c0002row5_col11\" class=\"data row5 col11\" >151.123718</td>\n",
              "            </tr>\n",
              "            <tr>\n",
              "                        <th id=\"T_2cb24b88_adb8_11ea_98b9_0242ac1c0002level0_row6\" class=\"row_heading level0 row6\" >2016077007</th>\n",
              "                        <td id=\"T_2cb24b88_adb8_11ea_98b9_0242ac1c0002row6_col0\" class=\"data row6 col0\" ><a target=\"_blank\" href=\"https://www.domain.com.au/42-ashburton-avenue-turramurra-nsw-2074-2016077007\">42 Ashburton Avenue</a></td>\n",
              "                        <td id=\"T_2cb24b88_adb8_11ea_98b9_0242ac1c0002row6_col1\" class=\"data row6 col1\" >1220</td>\n",
              "                        <td id=\"T_2cb24b88_adb8_11ea_98b9_0242ac1c0002row6_col2\" class=\"data row6 col2\" >4</td>\n",
              "                        <td id=\"T_2cb24b88_adb8_11ea_98b9_0242ac1c0002row6_col3\" class=\"data row6 col3\" >2</td>\n",
              "                        <td id=\"T_2cb24b88_adb8_11ea_98b9_0242ac1c0002row6_col4\" class=\"data row6 col4\" >2</td>\n",
              "                        <td id=\"T_2cb24b88_adb8_11ea_98b9_0242ac1c0002row6_col5\" class=\"data row6 col5\" >N</td>\n",
              "                        <td id=\"T_2cb24b88_adb8_11ea_98b9_0242ac1c0002row6_col6\" class=\"data row6 col6\" >N</td>\n",
              "                        <td id=\"T_2cb24b88_adb8_11ea_98b9_0242ac1c0002row6_col7\" class=\"data row6 col7\" >Contact Agent</td>\n",
              "                        <td id=\"T_2cb24b88_adb8_11ea_98b9_0242ac1c0002row6_col8\" class=\"data row6 col8\" >None</td>\n",
              "                        <td id=\"T_2cb24b88_adb8_11ea_98b9_0242ac1c0002row6_col9\" class=\"data row6 col9\" >None</td>\n",
              "                        <td id=\"T_2cb24b88_adb8_11ea_98b9_0242ac1c0002row6_col10\" class=\"data row6 col10\" >-33.761100</td>\n",
              "                        <td id=\"T_2cb24b88_adb8_11ea_98b9_0242ac1c0002row6_col11\" class=\"data row6 col11\" >151.108300</td>\n",
              "            </tr>\n",
              "            <tr>\n",
              "                        <th id=\"T_2cb24b88_adb8_11ea_98b9_0242ac1c0002level0_row7\" class=\"row_heading level0 row7\" >2016296004</th>\n",
              "                        <td id=\"T_2cb24b88_adb8_11ea_98b9_0242ac1c0002row7_col0\" class=\"data row7 col0\" ><a target=\"_blank\" href=\"https://www.domain.com.au/37-duff-street-turramurra-nsw-2074-2016296004\">37 Duff Street</a></td>\n",
              "                        <td id=\"T_2cb24b88_adb8_11ea_98b9_0242ac1c0002row7_col1\" class=\"data row7 col1\" >667</td>\n",
              "                        <td id=\"T_2cb24b88_adb8_11ea_98b9_0242ac1c0002row7_col2\" class=\"data row7 col2\" >4</td>\n",
              "                        <td id=\"T_2cb24b88_adb8_11ea_98b9_0242ac1c0002row7_col3\" class=\"data row7 col3\" >1</td>\n",
              "                        <td id=\"T_2cb24b88_adb8_11ea_98b9_0242ac1c0002row7_col4\" class=\"data row7 col4\" >2</td>\n",
              "                        <td id=\"T_2cb24b88_adb8_11ea_98b9_0242ac1c0002row7_col5\" class=\"data row7 col5\" >Y</td>\n",
              "                        <td id=\"T_2cb24b88_adb8_11ea_98b9_0242ac1c0002row7_col6\" class=\"data row7 col6\" >N</td>\n",
              "                        <td id=\"T_2cb24b88_adb8_11ea_98b9_0242ac1c0002row7_col7\" class=\"data row7 col7\" >Auction Saturday 27 June at 3pm</td>\n",
              "                        <td id=\"T_2cb24b88_adb8_11ea_98b9_0242ac1c0002row7_col8\" class=\"data row7 col8\" >06-27T15:00</td>\n",
              "                        <td id=\"T_2cb24b88_adb8_11ea_98b9_0242ac1c0002row7_col9\" class=\"data row7 col9\" >06-13T11:0</td>\n",
              "                        <td id=\"T_2cb24b88_adb8_11ea_98b9_0242ac1c0002row7_col10\" class=\"data row7 col10\" >-33.734947</td>\n",
              "                        <td id=\"T_2cb24b88_adb8_11ea_98b9_0242ac1c0002row7_col11\" class=\"data row7 col11\" >151.123459</td>\n",
              "            </tr>\n",
              "            <tr>\n",
              "                        <th id=\"T_2cb24b88_adb8_11ea_98b9_0242ac1c0002level0_row8\" class=\"row_heading level0 row8\" >2016283665</th>\n",
              "                        <td id=\"T_2cb24b88_adb8_11ea_98b9_0242ac1c0002row8_col0\" class=\"data row8 col0\" ><a target=\"_blank\" href=\"https://www.domain.com.au/12-billabong-avenue-turramurra-nsw-2074-2016283665\">12 Billabong Avenue</a></td>\n",
              "                        <td id=\"T_2cb24b88_adb8_11ea_98b9_0242ac1c0002row8_col1\" class=\"data row8 col1\" >1069</td>\n",
              "                        <td id=\"T_2cb24b88_adb8_11ea_98b9_0242ac1c0002row8_col2\" class=\"data row8 col2\" >3</td>\n",
              "                        <td id=\"T_2cb24b88_adb8_11ea_98b9_0242ac1c0002row8_col3\" class=\"data row8 col3\" >1</td>\n",
              "                        <td id=\"T_2cb24b88_adb8_11ea_98b9_0242ac1c0002row8_col4\" class=\"data row8 col4\" >1</td>\n",
              "                        <td id=\"T_2cb24b88_adb8_11ea_98b9_0242ac1c0002row8_col5\" class=\"data row8 col5\" >N</td>\n",
              "                        <td id=\"T_2cb24b88_adb8_11ea_98b9_0242ac1c0002row8_col6\" class=\"data row8 col6\" >N</td>\n",
              "                        <td id=\"T_2cb24b88_adb8_11ea_98b9_0242ac1c0002row8_col7\" class=\"data row8 col7\" >Auction Saturday 27 June, 1pm</td>\n",
              "                        <td id=\"T_2cb24b88_adb8_11ea_98b9_0242ac1c0002row8_col8\" class=\"data row8 col8\" >06-27T13:00</td>\n",
              "                        <td id=\"T_2cb24b88_adb8_11ea_98b9_0242ac1c0002row8_col9\" class=\"data row8 col9\" >06-17T12:3</td>\n",
              "                        <td id=\"T_2cb24b88_adb8_11ea_98b9_0242ac1c0002row8_col10\" class=\"data row8 col10\" >-33.724770</td>\n",
              "                        <td id=\"T_2cb24b88_adb8_11ea_98b9_0242ac1c0002row8_col11\" class=\"data row8 col11\" >151.136520</td>\n",
              "            </tr>\n",
              "            <tr>\n",
              "                        <th id=\"T_2cb24b88_adb8_11ea_98b9_0242ac1c0002level0_row9\" class=\"row_heading level0 row9\" >2016276973</th>\n",
              "                        <td id=\"T_2cb24b88_adb8_11ea_98b9_0242ac1c0002row9_col0\" class=\"data row9 col0\" ><a target=\"_blank\" href=\"https://www.domain.com.au/7-9a-curagul-road-turramurra-nsw-2074-2016276973\">7/9a Curagul Road</a></td>\n",
              "                        <td id=\"T_2cb24b88_adb8_11ea_98b9_0242ac1c0002row9_col1\" class=\"data row9 col1\" >nan</td>\n",
              "                        <td id=\"T_2cb24b88_adb8_11ea_98b9_0242ac1c0002row9_col2\" class=\"data row9 col2\" >3</td>\n",
              "                        <td id=\"T_2cb24b88_adb8_11ea_98b9_0242ac1c0002row9_col3\" class=\"data row9 col3\" >2</td>\n",
              "                        <td id=\"T_2cb24b88_adb8_11ea_98b9_0242ac1c0002row9_col4\" class=\"data row9 col4\" >2</td>\n",
              "                        <td id=\"T_2cb24b88_adb8_11ea_98b9_0242ac1c0002row9_col5\" class=\"data row9 col5\" >Y</td>\n",
              "                        <td id=\"T_2cb24b88_adb8_11ea_98b9_0242ac1c0002row9_col6\" class=\"data row9 col6\" >N</td>\n",
              "                        <td id=\"T_2cb24b88_adb8_11ea_98b9_0242ac1c0002row9_col7\" class=\"data row9 col7\" >Auction Saturday 27 June, 3pm onsite</td>\n",
              "                        <td id=\"T_2cb24b88_adb8_11ea_98b9_0242ac1c0002row9_col8\" class=\"data row9 col8\" >06-27T15:00</td>\n",
              "                        <td id=\"T_2cb24b88_adb8_11ea_98b9_0242ac1c0002row9_col9\" class=\"data row9 col9\" >06-17T12:1</td>\n",
              "                        <td id=\"T_2cb24b88_adb8_11ea_98b9_0242ac1c0002row9_col10\" class=\"data row9 col10\" >-33.699190</td>\n",
              "                        <td id=\"T_2cb24b88_adb8_11ea_98b9_0242ac1c0002row9_col11\" class=\"data row9 col11\" >151.152145</td>\n",
              "            </tr>\n",
              "    </tbody></table>"
            ],
            "text/plain": [
              "<pandas.io.formats.style.Styler at 0x7f2597c9af60>"
            ]
          },
          "metadata": {
            "tags": []
          },
          "execution_count": 11
        }
      ]
    },
    {
      "cell_type": "code",
      "metadata": {
        "id": "5Va1V2Fzrk9m",
        "colab_type": "code",
        "colab": {}
      },
      "source": [
        "get_prop = client.get('/v1/listings/2016308959')"
      ],
      "execution_count": null,
      "outputs": []
    },
    {
      "cell_type": "code",
      "metadata": {
        "id": "Cx3h48znwEQ-",
        "colab_type": "code",
        "colab": {
          "base_uri": "https://localhost:8080/",
          "height": 1000
        },
        "outputId": "7f5939ee-e764-4301-bbf5-cdfda7ef8498"
      },
      "source": [
        "get_prop"
      ],
      "execution_count": null,
      "outputs": [
        {
          "output_type": "execute_result",
          "data": {
            "text/plain": [
              "{'addressParts': {'displayAddress': '5 Stratton Place, Turramurra NSW 2074',\n",
              "  'displayType': 'fullAddress',\n",
              "  'postcode': '2074',\n",
              "  'stateAbbreviation': 'nsw',\n",
              "  'street': 'Stratton Place',\n",
              "  'streetNumber': '5',\n",
              "  'suburb': 'Turramurra'},\n",
              " 'advertiserIdentifiers': {'advertiserId': 29538,\n",
              "  'advertiserType': 'agency',\n",
              "  'agentIds': ['A87073', 'A108775'],\n",
              "  'contactIds': [1379098, 1589843]},\n",
              " 'bathrooms': 2.0,\n",
              " 'bedrooms': 3.0,\n",
              " 'carspaces': 2.0,\n",
              " 'channel': 'residential',\n",
              " 'dateListed': '2020-06-11T08:43:27Z',\n",
              " 'dateUpdated': '2020-06-11T08:43:27.523Z',\n",
              " 'description': \"A rare offering in tightly held 'Eden Ridge', a serene village enclave reserved exclusively for over-55s, this beautifully presented residence combines the qualities of a house with the ease and convenience of villa living. Set amid park-like gardens, residents can enjoy the communal recreation areas - swimming pool, clubhouse, and BBQ facilities  whilst being only moments to transport, golf and the beautiful waterways of Bobbin Head in Ku-ring-gai National Park.  This home assures a low maintenance lifestyle of peace and privacy in a relaxed environment just minutes from the excellent amenities of North Turramurra. \\r\\n\\r\\n- Bright and airy interiors with two living areas, one under cathedral ceiling\\r\\n- Spacious kitchen, granite bench tops, stainless appliances, gas cooking\\r\\n- Three bedrooms all offering built-ins with two opening to the outdoors\\r\\n- Main bathroom, full en-suite and internal laundry with clothes drying courtyard\\r\\n- Ducted air conditioning system for year-round comfort plus enclosed fireplace\\r\\n- Established pretty front garden with hedged garden area to the rear\\r\\n- Central courtyard featuring an electric vergola for all-weather alfresco dining\",\n",
              " 'geoLocation': {'latitude': -33.6912499, 'longitude': 151.1496275},\n",
              " 'headline': 'Spacious Torrens title villa in over-55s estate',\n",
              " 'id': 2016308959,\n",
              " 'inspectionDetails': {'inspections': [{'closingDateTime': '2020-06-13T03:40:00Z',\n",
              "    'openingDateTime': '2020-06-13T03:00:00Z',\n",
              "    'recurrence': 'none'},\n",
              "   {'closingDateTime': '2020-06-17T03:40:00Z',\n",
              "    'openingDateTime': '2020-06-17T03:00:00Z',\n",
              "    'recurrence': 'none'},\n",
              "   {'closingDateTime': '2020-06-20T03:40:00Z',\n",
              "    'openingDateTime': '2020-06-20T03:00:00Z',\n",
              "    'recurrence': 'none'},\n",
              "   {'closingDateTime': '2020-06-24T03:40:00Z',\n",
              "    'openingDateTime': '2020-06-24T03:00:00Z',\n",
              "    'recurrence': 'none'},\n",
              "   {'closingDateTime': '2020-06-27T03:40:00Z',\n",
              "    'openingDateTime': '2020-06-27T03:00:00Z',\n",
              "    'recurrence': 'none'},\n",
              "   {'closingDateTime': '2020-07-01T03:40:00Z',\n",
              "    'openingDateTime': '2020-07-01T03:00:00Z',\n",
              "    'recurrence': 'none'},\n",
              "   {'closingDateTime': '2020-07-04T03:40:00Z',\n",
              "    'openingDateTime': '2020-07-04T03:00:00Z',\n",
              "    'recurrence': 'none'}],\n",
              "  'isByAppointmentOnly': False,\n",
              "  'pastInspections': []},\n",
              " 'isNewDevelopment': False,\n",
              " 'media': [{'category': 'image',\n",
              "   'type': 'photo',\n",
              "   'url': 'https://bucket-api.domain.com.au/v1/bucket/image/2016308959_1_1_200611_084253-w2160-h1440'},\n",
              "  {'category': 'image',\n",
              "   'type': 'photo',\n",
              "   'url': 'https://bucket-api.domain.com.au/v1/bucket/image/2016308959_2_1_200611_084253-w6000-h4000'},\n",
              "  {'category': 'image',\n",
              "   'type': 'photo',\n",
              "   'url': 'https://bucket-api.domain.com.au/v1/bucket/image/2016308959_3_1_200611_084253-w6000-h4000'},\n",
              "  {'category': 'image',\n",
              "   'type': 'photo',\n",
              "   'url': 'https://bucket-api.domain.com.au/v1/bucket/image/2016308959_4_1_200611_084253-w5969-h3979'},\n",
              "  {'category': 'image',\n",
              "   'type': 'photo',\n",
              "   'url': 'https://bucket-api.domain.com.au/v1/bucket/image/2016308959_5_1_200611_084253-w6000-h4000'}],\n",
              " 'objective': 'sale',\n",
              " 'priceDetails': {'canDisplayPrice': False,\n",
              "  'displayPrice': 'For Sale Contact Agent'},\n",
              " 'propertyTypes': ['house'],\n",
              " 'saleDetails': {'saleMethod': 'privateTreaty',\n",
              "  'tenantDetails': {},\n",
              "  'tenderDetails': {}},\n",
              " 'saleMode': 'buy',\n",
              " 'seoUrl': 'https://www.domain.com.au/5-stratton-place-turramurra-nsw-2074-2016308959',\n",
              " 'status': 'new',\n",
              " 'virtualTourUrl': 'https://my.matterport.com/show/?m=xi38eBRmTbH'}"
            ]
          },
          "metadata": {
            "tags": []
          },
          "execution_count": 79
        }
      ]
    },
    {
      "cell_type": "code",
      "metadata": {
        "id": "_QxEc6v3wGBF",
        "colab_type": "code",
        "colab": {
          "base_uri": "https://localhost:8080/",
          "height": 1000
        },
        "outputId": "6927877d-55a4-4faf-b6db-a754f7c54f75"
      },
      "source": [
        "sub_list[2]"
      ],
      "execution_count": null,
      "outputs": [
        {
          "output_type": "execute_result",
          "data": {
            "text/plain": [
              "{'listing': {'advertiser': {'bannerUrl': 'https://images.domain.com.au/img/Agencys/29538/banner_29538.jpeg',\n",
              "   'contacts': [{'name': 'Andy Howden',\n",
              "     'photoUrl': 'https://images.domain.com.au/img/29538/contact_1379098.jpeg?mod=200611-184253'},\n",
              "    {'name': 'Alexander Liapis',\n",
              "     'photoUrl': 'https://images.domain.com.au/img/29538/contact_1589843.jpeg?mod=200611-184253'}],\n",
              "   'id': 29538,\n",
              "   'logoUrl': 'https://images.domain.com.au/img/Agencys/29538/logo_29538.jpeg',\n",
              "   'name': 'Stone Real Estate Turramurra',\n",
              "   'preferredColourHex': '#293038',\n",
              "   'type': 'Agency'},\n",
              "  'hasFloorplan': True,\n",
              "  'hasVideo': False,\n",
              "  'headline': 'Spacious Torrens title villa in over-55s estate',\n",
              "  'id': 2016308959,\n",
              "  'inspectionSchedule': {'byAppointment': False,\n",
              "   'recurring': False,\n",
              "   'times': [{'closingTime': '2020-06-13T13:40:00',\n",
              "     'openingTime': '2020-06-13T13:00:00'},\n",
              "    {'closingTime': '2020-06-17T13:40:00',\n",
              "     'openingTime': '2020-06-17T13:00:00'},\n",
              "    {'closingTime': '2020-06-20T13:40:00',\n",
              "     'openingTime': '2020-06-20T13:00:00'},\n",
              "    {'closingTime': '2020-06-24T13:40:00',\n",
              "     'openingTime': '2020-06-24T13:00:00'},\n",
              "    {'closingTime': '2020-06-27T13:40:00',\n",
              "     'openingTime': '2020-06-27T13:00:00'},\n",
              "    {'closingTime': '2020-07-01T13:40:00',\n",
              "     'openingTime': '2020-07-01T13:00:00'},\n",
              "    {'closingTime': '2020-07-04T13:40:00',\n",
              "     'openingTime': '2020-07-04T13:00:00'}]},\n",
              "  'labels': ['New'],\n",
              "  'listingSlug': '5-stratton-place-turramurra-nsw-2074-2016308959',\n",
              "  'listingType': 'Sale',\n",
              "  'media': [{'category': 'Image',\n",
              "    'url': 'https://bucket-api.domain.com.au/v1/bucket/image/2016308959_1_1_200611_084253-w2160-h1440'},\n",
              "   {'category': 'Image',\n",
              "    'url': 'https://bucket-api.domain.com.au/v1/bucket/image/2016308959_2_1_200611_084253-w6000-h4000'},\n",
              "   {'category': 'Image',\n",
              "    'url': 'https://bucket-api.domain.com.au/v1/bucket/image/2016308959_3_1_200611_084253-w6000-h4000'},\n",
              "   {'category': 'Image',\n",
              "    'url': 'https://bucket-api.domain.com.au/v1/bucket/image/2016308959_4_1_200611_084253-w5969-h3979'},\n",
              "   {'category': 'Image',\n",
              "    'url': 'https://bucket-api.domain.com.au/v1/bucket/image/2016308959_5_1_200611_084253-w6000-h4000'}],\n",
              "  'priceDetails': {'displayPrice': 'For Sale Contact Agent'},\n",
              "  'propertyDetails': {'allPropertyTypes': ['House'],\n",
              "   'area': 'North Shore - Upper',\n",
              "   'bathrooms': 2.0,\n",
              "   'bedrooms': 3.0,\n",
              "   'carspaces': 2,\n",
              "   'displayableAddress': '5 Stratton Place, Turramurra',\n",
              "   'features': ['AirConditioning',\n",
              "    'BuiltInWardrobes',\n",
              "    'Gas',\n",
              "    'InternalLaundry',\n",
              "    'SwimmingPool'],\n",
              "   'latitude': -33.69125,\n",
              "   'longitude': 151.149628,\n",
              "   'postcode': '2074',\n",
              "   'propertyType': 'House',\n",
              "   'region': 'Sydney Region',\n",
              "   'state': 'NSW',\n",
              "   'street': 'Stratton Place',\n",
              "   'streetNumber': '5',\n",
              "   'suburb': 'TURRAMURRA',\n",
              "   'unitNumber': ''},\n",
              "  'summaryDescription': \"<b></b><br />A rare offering in tightly held 'Eden Ridge', a serene village enclave reserved exclusively for over-55s, this beautifully presented residence combines the qualities of a house with the ease and convenience of villa living. Set amid park-l...\"},\n",
              " 'type': 'PropertyListing'}"
            ]
          },
          "metadata": {
            "tags": []
          },
          "execution_count": 80
        }
      ]
    },
    {
      "cell_type": "code",
      "metadata": {
        "id": "PsM2LtZ9qThi",
        "colab_type": "code",
        "colab": {}
      },
      "source": [
        ""
      ],
      "execution_count": null,
      "outputs": []
    }
  ]
}