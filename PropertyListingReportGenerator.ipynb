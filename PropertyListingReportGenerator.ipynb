{
  "nbformat": 4,
  "nbformat_minor": 0,
  "metadata": {
    "colab": {
      "name": "PropertyListingReportGenerator.ipynb",
      "provenance": [],
      "collapsed_sections": [],
      "authorship_tag": "ABX9TyMEIUYvMPLHXIhlrFi9e1y1",
      "include_colab_link": true
    },
    "kernelspec": {
      "name": "python3",
      "display_name": "Python 3"
    }
  },
  "cells": [
    {
      "cell_type": "markdown",
      "metadata": {
        "id": "view-in-github",
        "colab_type": "text"
      },
      "source": [
        "<a href=\"https://colab.research.google.com/github/fiony/web_scrape/blob/master/PropertyListingReportGenerator.ipynb\" target=\"_parent\"><img src=\"https://colab.research.google.com/assets/colab-badge.svg\" alt=\"Open In Colab\"/></a>"
      ]
    },
    {
      "cell_type": "code",
      "metadata": {
        "id": "TnWQY99uiX1v",
        "colab_type": "code",
        "colab": {}
      },
      "source": [
        "SUB_LNS = 'Lower North Shore'\n",
        "SUB_UNS = 'Upper North Shore'\n",
        "SUB_MNS = 'Middle North Shore'\n",
        "LNS_POSTCODE = 2069\n",
        "UNS_POSTCODE = 2073\n",
        "\n",
        "SUB_NE = 'North East'\n",
        "SUB_SE = 'South East'\n",
        "NE_POSTCODE = 2030"
      ],
      "execution_count": 248,
      "outputs": []
    },
    {
      "cell_type": "code",
      "metadata": {
        "id": "VI-g8dpMSIp6",
        "colab_type": "code",
        "colab": {}
      },
      "source": [
        "EMAIL_FIONY=\"fiony9@gmail.com\"\n",
        "EMAIL_DEBBIE=\"debbiemm@gmail.com\"\n",
        "EMAIL_BUS = [EMAIL_FIONY, EMAIL_DEBBIE]\n",
        "EMAIL_DEV = [EMAIL_FIONY]"
      ],
      "execution_count": 52,
      "outputs": []
    },
    {
      "cell_type": "code",
      "metadata": {
        "id": "e50v6JlwwwdD",
        "colab_type": "code",
        "colab": {
          "base_uri": "https://localhost:8080/",
          "height": 124
        },
        "outputId": "062f2051-26d9-4af1-d93e-367f9a24f5b0"
      },
      "source": [
        "from google.colab import drive\n",
        "drive.mount('/content/drive', force_remount=True)"
      ],
      "execution_count": null,
      "outputs": [
        {
          "output_type": "stream",
          "text": [
            "Go to this URL in a browser: https://accounts.google.com/o/oauth2/auth?client_id=947318989803-6bn6qk8qdgf4n4g3pfee6491hc0brc4i.apps.googleusercontent.com&redirect_uri=urn%3aietf%3awg%3aoauth%3a2.0%3aoob&response_type=code&scope=email%20https%3a%2f%2fwww.googleapis.com%2fauth%2fdocs.test%20https%3a%2f%2fwww.googleapis.com%2fauth%2fdrive%20https%3a%2f%2fwww.googleapis.com%2fauth%2fdrive.photos.readonly%20https%3a%2f%2fwww.googleapis.com%2fauth%2fpeopleapi.readonly\n",
            "\n",
            "Enter your authorization code:\n",
            "··········\n",
            "Mounted at /content/drive\n"
          ],
          "name": "stdout"
        }
      ]
    },
    {
      "cell_type": "code",
      "metadata": {
        "id": "x7nz1V9EvW_t",
        "colab_type": "code",
        "colab": {
          "base_uri": "https://localhost:8080/",
          "height": 170
        },
        "outputId": "09ba54ad-f635-4444-aa7e-669944a482cb"
      },
      "source": [
        "# import other libraries\n",
        "!pip install import-ipynb\n",
        "import import_ipynb"
      ],
      "execution_count": 4,
      "outputs": [
        {
          "output_type": "stream",
          "text": [
            "Collecting import-ipynb\n",
            "  Downloading https://files.pythonhosted.org/packages/63/35/495e0021bfdcc924c7cdec4e9fbb87c88dd03b9b9b22419444dc370c8a45/import-ipynb-0.1.3.tar.gz\n",
            "Building wheels for collected packages: import-ipynb\n",
            "  Building wheel for import-ipynb (setup.py) ... \u001b[?25l\u001b[?25hdone\n",
            "  Created wheel for import-ipynb: filename=import_ipynb-0.1.3-cp36-none-any.whl size=2976 sha256=27663dcc792b9786bdb3ca222eee43a4e77ef3a909f884a4a3515a38534dc9c7\n",
            "  Stored in directory: /root/.cache/pip/wheels/b4/7b/e9/a3a6e496115dffdb4e3085d0ae39ffe8a814eacc44bbf494b5\n",
            "Successfully built import-ipynb\n",
            "Installing collected packages: import-ipynb\n",
            "Successfully installed import-ipynb-0.1.3\n"
          ],
          "name": "stdout"
        }
      ]
    },
    {
      "cell_type": "code",
      "metadata": {
        "id": "zcOjZg1Yw2Y0",
        "colab_type": "code",
        "colab": {
          "base_uri": "https://localhost:8080/",
          "height": 85
        },
        "outputId": "e9dd3bfe-3408-4679-871a-671dcf378557"
      },
      "source": [
        "%cd \"/content/drive/My Drive/Colab Notebooks\"\n",
        "import LibDomainApi as domain\n",
        "import HousingData as hd\n",
        "import DomainApiClientInfo as ci"
      ],
      "execution_count": 5,
      "outputs": [
        {
          "output_type": "stream",
          "text": [
            "/content/drive/My Drive/Colab Notebooks\n",
            "importing Jupyter notebook from LibDomainApi.ipynb\n",
            "importing Jupyter notebook from HousingData.ipynb\n",
            "importing Jupyter notebook from DomainApiClientInfo.ipynb\n"
          ],
          "name": "stdout"
        }
      ]
    },
    {
      "cell_type": "code",
      "metadata": {
        "id": "kwyApKGK0HUz",
        "colab_type": "code",
        "colab": {}
      },
      "source": [
        "search_price = domain.PriceRange(1.8e6, 3e6)\n",
        "estimate_ratio = 1.1\n",
        "estimate_price = domain.PriceRange(search_price.min/estimate_ratio, search_price.max*estimate_ratio)\n",
        "search_property = domain.PropertyRange(bed=\"3+\", bath=\"1+\", car=\"1+\")"
      ],
      "execution_count": 6,
      "outputs": []
    },
    {
      "cell_type": "code",
      "metadata": {
        "id": "emkArEzA45LC",
        "colab_type": "code",
        "colab": {}
      },
      "source": [
        "# this library is awesome: http://docs.python-requests.org/en/master/\n",
        "import time,re, string, timeit, os, math, sys, logging, importlib, json, requests\n",
        "from datetime import datetime\n",
        "from collections import namedtuple\n",
        "from IPython.display import display, HTML\n",
        "import pandas as pd, numpy as np"
      ],
      "execution_count": 7,
      "outputs": []
    },
    {
      "cell_type": "code",
      "metadata": {
        "id": "gCxwpwhJ36Zp",
        "colab_type": "code",
        "colab": {
          "base_uri": "https://localhost:8080/",
          "height": 51
        },
        "outputId": "eb5607a5-21cb-45bb-b014-caeb05ca36fe"
      },
      "source": [
        "# reload in case update\n",
        "#importlib.reload(domain)"
      ],
      "execution_count": null,
      "outputs": [
        {
          "output_type": "stream",
          "text": [
            "importing Jupyter notebook from LibDomainApi.ipynb\n"
          ],
          "name": "stdout"
        },
        {
          "output_type": "execute_result",
          "data": {
            "text/plain": [
              "<module 'LibDomainApi' from 'LibDomainApi.ipynb'>"
            ]
          },
          "metadata": {
            "tags": []
          },
          "execution_count": 91
        }
      ]
    },
    {
      "cell_type": "code",
      "metadata": {
        "id": "CJ2tLhBvp61j",
        "colab_type": "code",
        "colab": {}
      },
      "source": [
        "domain.init_logging()"
      ],
      "execution_count": 8,
      "outputs": []
    },
    {
      "cell_type": "code",
      "metadata": {
        "id": "hW3tpfDnIbhi",
        "colab_type": "code",
        "colab": {}
      },
      "source": [
        "domain.setLogLevel(logging.INFO)"
      ],
      "execution_count": 9,
      "outputs": []
    },
    {
      "cell_type": "code",
      "metadata": {
        "id": "NrLEiL_x0AyC",
        "colab_type": "code",
        "colab": {}
      },
      "source": [
        "account = ci.accountA\n",
        "client = domain.DomainClient(account.id, account.secret)"
      ],
      "execution_count": 88,
      "outputs": []
    },
    {
      "cell_type": "markdown",
      "metadata": {
        "id": "6cEifqViISZD",
        "colab_type": "text"
      },
      "source": [
        "#### Load/Save records"
      ]
    },
    {
      "cell_type": "code",
      "metadata": {
        "id": "DrDD3kIOIa7A",
        "colab_type": "code",
        "colab": {}
      },
      "source": [
        "DATA_PATH='/content/drive/My Drive/HouseListingResult'\n",
        "def LoadExistingRecord(filename, path=DATA_PATH):\n",
        "  df = pd.DataFrame()  \n",
        "  file_path = os.path.join(path, filename)\n",
        "  if os.path.exists(file_path):\n",
        "    df = pd.read_csv(file_path, index_col=0) # first column as index\n",
        "    UpdateFields(df)\n",
        "  return df"
      ],
      "execution_count": 11,
      "outputs": []
    },
    {
      "cell_type": "code",
      "metadata": {
        "id": "kH9exweyWGmd",
        "colab_type": "code",
        "colab": {}
      },
      "source": [
        "COL_DOMAIN_PRICE = 'DomainPrice'\n",
        "COL_MARKET_STATUS = 'status'\n",
        "COL_BED_BATH_CAR = \"BBC\"\n",
        "COL_GAS_POOL = \"GP\"\n",
        "STATUS_ON_MARKET = 'ON'\n",
        "STATUS_OFF_MARKET = 'OFF'\n",
        "STATUS_NEW_MARKET = 'NEW'\n",
        "EXTRA_FIELDS = {COL_DOMAIN_PRICE : None}\n",
        "REPORT_COLUMNS_PREFIX = ['addr', COL_DOMAIN_PRICE, 'area']\n",
        "REPORT_COLUMNS_POSFIX = ['price', 'sub']\n",
        "HOUSE_COLUMNS_FULL = ['bed',\t'car',\t'bath',\t'gas',\t'pool']\n",
        "REPORT_COLUMNS = REPORT_COLUMNS_PREFIX + HOUSE_COLUMNS_FULL + REPORT_COLUMNS_POSFIX\n",
        "SHOW_COLUMNS = REPORT_COLUMNS + [COL_MARKET_STATUS]\n",
        "COL_RENAME_MAP = {'addr':'Address','DomainPrice':'Price(Est)', 'area':'Area', 'price':'Guide', 'sub':'Suburb','bed':'Bed','car':'Car','bath':'Bath','gas':'Gas','pool':'Pool'}\n",
        "COL_SHORTEN_NAME_MAP = {'gas':'G', 'Gas':'G', 'Pool':'P', 'pool':'P'}"
      ],
      "execution_count": 12,
      "outputs": []
    },
    {
      "cell_type": "code",
      "metadata": {
        "id": "3lpnciIxOpAe",
        "colab_type": "code",
        "colab": {}
      },
      "source": [
        "def show(df_listing):\n",
        "  display(HTML(domain.to_table(df_listing, show_column=SHOW_COLUMNS)))\n",
        "\n",
        "def UpdateFields(df_listing, fields=EXTRA_FIELDS):\n",
        "  for field, default_val in fields.items():\n",
        "    if not field in df_listing.columns:\n",
        "      df_listing[field] = default_val\n",
        "  #return df_listing  "
      ],
      "execution_count": 80,
      "outputs": []
    },
    {
      "cell_type": "code",
      "metadata": {
        "id": "FZ-_Tl3f_swk",
        "colab_type": "code",
        "colab": {}
      },
      "source": [
        "def reconcile(df_cur, df_last):\n",
        "  df_all = df_cur.combine_first(df_last)\n",
        "  df_all['status']=df_all.index.map(lambda x : STATUS_NEW_MARKET if x not in df_last.index else STATUS_OFF_MARKET if x not in df_cur.index else STATUS_ON_MARKET )\n",
        "  return df_all"
      ],
      "execution_count": 14,
      "outputs": []
    },
    {
      "cell_type": "code",
      "metadata": {
        "id": "eN2AfLj9LOk7",
        "colab_type": "code",
        "colab": {}
      },
      "source": [
        "def SaveToCsv(df_listing, filename, update_latest=True, path=DATA_PATH):\n",
        "  file_prefix, file_extension = os.path.splitext(filename)\n",
        "  import shutil\n",
        "  #filename = '%s.csv'%(file_prefix)\n",
        "  date_str = datetime.now().strftime(\"%Y%m%d\")\n",
        "  backup_filename = '%s-%s%s'%(file_prefix, date_str, file_extension)\n",
        "  df_listing.to_csv(filename)\n",
        "  \n",
        "  if update_latest:\n",
        "    shutil.copyfile(filename, backup_filename)\n",
        "    shutil.move(filename, os.path.join(path, filename))\n",
        "    shutil.move(backup_filename, os.path.join(path, backup_filename))"
      ],
      "execution_count": 15,
      "outputs": []
    },
    {
      "cell_type": "markdown",
      "metadata": {
        "id": "lP8oZa6ksXOj",
        "colab_type": "text"
      },
      "source": [
        "#### Send Email"
      ]
    },
    {
      "cell_type": "code",
      "metadata": {
        "id": "ni0dgvVfUQHo",
        "colab_type": "code",
        "colab": {}
      },
      "source": [
        "#https://docs.python.org/3.7/library/email.examples.html\n",
        "def SendEmail(subject, to, html_body, txt_body=\"\"):\n",
        "  import smtplib  \n",
        "  sender = \"fiony.data@gmail.com\"\n",
        "  server = smtplib.SMTP('smtp.gmail.com', 587)\n",
        "  server.starttls()\n",
        "  server.login(sender, \"Fiony9@data\")\n",
        "\n",
        "  # Import the email modules we'll need\n",
        "  from email.message import EmailMessage\n",
        "  from email.headerregistry import Address\n",
        "  from email.utils import make_msgid  \n",
        "\n",
        "  # Open the plain text file whose name is in textfile for reading.\n",
        "  msg = EmailMessage()\n",
        "  msg.set_content(txt_body)\n",
        "  \n",
        "  asparagus_cid = make_msgid()\n",
        "  msg.add_alternative(\n",
        "      html_body.format(asparagus_cid=asparagus_cid[1:-1]), \n",
        "      subtype='html')\n",
        "\n",
        "  date_str = datetime.now().strftime(\"%d-%b-%Y\")\n",
        "  msg['Subject'] = \"%s %s\" % (subject, date_str)\n",
        "  msg['From'] = Address(\"KeXueKanFang\", \"fiony.data\", \"gmail.com\")\n",
        "  msg['To'] = ','.join(to)\n",
        "\n",
        "  server.send_message(msg)\n",
        "  server.quit()"
      ],
      "execution_count": 16,
      "outputs": []
    },
    {
      "cell_type": "markdown",
      "metadata": {
        "id": "-yaWWPH3eFsr",
        "colab_type": "text"
      },
      "source": [
        "#### Send Report"
      ]
    },
    {
      "cell_type": "code",
      "metadata": {
        "id": "EsqzrbweV9hm",
        "colab_type": "code",
        "colab": {}
      },
      "source": [
        "def to_int(x):\n",
        "  try:\n",
        "    return int(x)\n",
        "  except:\n",
        "    return 'X'  # invalid\n",
        "\n",
        "def shorten_bed_bath_car(df_listing):\n",
        "  if 'bed' in df_listing.columns and 'bath' in df_listing.columns and 'car' in df_listing.columns:\n",
        "    result = df_listing.copy()\n",
        "    result[COL_BED_BATH_CAR] = result.apply(lambda x : \"%s%s%s\" % (to_int(x.bed), to_int(x.bath), to_int(x.car)), axis=1)\n",
        "    return result.drop(columns=['bed','car','bath'])\n",
        "  else:\n",
        "    return df_listing\n",
        "\n",
        "def shorten_gas_pool(df_listing):\n",
        "  if 'gas' in df_listing.columns and 'pool' in df_listing.columns:\n",
        "    result = df_listing.copy()\n",
        "    result[COL_GAS_POOL] = result.apply(lambda x : \"%s%s\" % (x.gas, x.pool), axis=1)\n",
        "    return result.drop(columns=['gas','pool'])\n",
        "  else:\n",
        "    return df_listing\n",
        "\n",
        "def hyperlink_addr(df_listing, addr_col='addr', url_col='url'):\n",
        "  hyperlink = lambda val : '<a target=\"_blank\" href=\"{}\">{}</a>'.format(val[0], val[1])\n",
        "  df_listing[addr_col] = df_listing[[url_col, addr_col]].agg(hyperlink, axis=1)\n",
        "  return df_listing\n",
        "\n",
        "def column_rename(df, report_columns, use_short_colname):\n",
        "  def _rename(name_map, name_list):\n",
        "    return [name_map[x] if x in name_map else x for x in name_list]\n",
        "\n",
        "  new_df = df.rename(columns=COL_RENAME_MAP)\n",
        "  if use_short_colname:\n",
        "    new_df = new_df.rename(columns=COL_SHORTEN_NAME_MAP)\n",
        "\n",
        "  new_report = _rename(COL_RENAME_MAP, report_columns)\n",
        "  if use_short_colname:\n",
        "    new_report = _rename(COL_SHORTEN_NAME_MAP, new_report)\n",
        "\n",
        "  return new_df, new_report\n",
        "\n",
        "def to_html_table(df, show_column=[], use_short_colname=True, **kwargs):  \n",
        "  _df = df.copy()\n",
        "\n",
        "  _df = hyperlink_addr(_df)\n",
        "  _df, show_column = column_rename(_df, show_column, use_short_colname)\n",
        "\n",
        "  if show_column:\n",
        "    _df = _df[show_column]\n",
        "\n",
        "  _float_fmt = lambda x : \"{:,.0f}\".format(x)\n",
        "  html = _df.to_html(escape=False, float_format=_float_fmt, **kwargs)\n",
        "  return html      "
      ],
      "execution_count": 241,
      "outputs": []
    },
    {
      "cell_type": "code",
      "metadata": {
        "id": "6jMeZOACeJOG",
        "colab_type": "code",
        "colab": {}
      },
      "source": [
        "Q_GAS = \"gas=='Y'\"\n",
        "Q_NO_GAS = \"gas=='N'\"\n",
        "Q_POOL = \"pool=='Y'\"\n",
        "Q_NO_POOL = \"pool=='N'\"\n",
        "Q_4_bed = \"bed==4\"\n",
        "Q_5_bed = \"bed>4\"\n",
        "Q_3_bed = \"bed<4\"\n",
        "Q_OFF_MARKET = \"%s=='%s'\"%(COL_MARKET_STATUS, STATUS_OFF_MARKET)\n",
        "Q_NOT_OFF_MARKET = \"%s!='%s'\"%(COL_MARKET_STATUS, STATUS_OFF_MARKET)\n",
        "Q_NEW_MARKET = \"%s=='%s'\"%(COL_MARKET_STATUS, STATUS_NEW_MARKET)\n",
        "Q_ON_MARKET = \"%s=='%s'\"%(COL_MARKET_STATUS, STATUS_ON_MARKET)\n",
        "\n",
        "class ReportConfig(object):\n",
        "  def __init__(self, title, queries=[], enrich_funcs=[], report_columns=REPORT_COLUMNS, short_colname=False):\n",
        "    self.title = title\n",
        "    self.queries = queries\n",
        "    self.report_columns = report_columns\n",
        "    self.enrich_funcs = enrich_funcs\n",
        "    self.short_colname = short_colname\n",
        "\n",
        "def ReportConfigByGP(title, queries):\n",
        "  NOGP_REPORT_COLUMNS = REPORT_COLUMNS_PREFIX + [COL_BED_BATH_CAR] + REPORT_COLUMNS_POSFIX\n",
        "  return ReportConfig(title=title, queries=queries, enrich_funcs=[shorten_bed_bath_car], report_columns=NOGP_REPORT_COLUMNS)\n",
        "\n",
        "def ReportConfigByGas(title, queries):\n",
        "  NOGAS_REPORT_COLUMNS = REPORT_COLUMNS_PREFIX + [COL_BED_BATH_CAR, 'pool'] + REPORT_COLUMNS_POSFIX\n",
        "  return ReportConfig(title=title, queries=queries, enrich_funcs=[shorten_bed_bath_car], report_columns=NOGAS_REPORT_COLUMNS, short_colname=True)\n",
        "\n",
        "COMPACT_FUNCS = [shorten_bed_bath_car, shorten_gas_pool]\n",
        "COMPACT_REPORT_COLUMNS = REPORT_COLUMNS_PREFIX + [COL_BED_BATH_CAR, COL_GAS_POOL] + REPORT_COLUMNS_POSFIX\n",
        "def ReportConfigCompact(title, queries):\n",
        "  return ReportConfig(title=title, queries=queries, enrich_funcs=COMPACT_FUNCS, report_columns=COMPACT_REPORT_COLUMNS)\n",
        "\n",
        "REPORT_SECTION = [\n",
        "  ReportConfigByGP(\"4 Beds Gas Pool\",   [Q_4_bed, Q_GAS, Q_POOL]),\n",
        "  ReportConfigByGP(\"4 Beds Gas NoPool\", [Q_4_bed, Q_GAS, Q_NO_POOL]),\n",
        "  ReportConfigByGas(\"4 Beds NoGas\",     [Q_4_bed, Q_NO_GAS]),\n",
        "  ReportConfigByGas(\"3 Beds Gas\",       [Q_3_bed, Q_GAS]),\n",
        "  ReportConfigByGas(\"3 Beds NoGas\",     [Q_3_bed, Q_NO_GAS]),\n",
        "  ReportConfigByGas(\"5+ Beds Gas\",      [Q_5_bed, Q_GAS]),\n",
        "  ReportConfigByGas(\"5+ Beds NoGas\",    [Q_5_bed, Q_NO_GAS]),\n",
        "]"
      ],
      "execution_count": 18,
      "outputs": []
    },
    {
      "cell_type": "code",
      "metadata": {
        "id": "GG-z13-LfNbs",
        "colab_type": "code",
        "colab": {}
      },
      "source": [
        "def SendReport(df_listing, subject, to, dry_run=False, sections=REPORT_SECTION):\n",
        "  def _tag(t, v):\n",
        "    return '<{tag}>{value}</{tag}>'.format(tag=t, value=v)\n",
        "\n",
        "  x = {'html': '', \n",
        "       'txt' : \"Oops, something went wrong, but we found %s houses on listing\" % (len(df_listing))\n",
        "       }\n",
        "\n",
        "  def _update(df, title, enrich_funcs=COMPACT_FUNCS, report_columns=COMPACT_REPORT_COLUMNS, use_short_colname=False):\n",
        "    for enrich in enrich_funcs:\n",
        "      df = enrich(df)\n",
        "\n",
        "    df = df.sort_values(by=[COL_DOMAIN_PRICE])    \n",
        "\n",
        "    HTML_NEW_LINE = '<br><br>'\n",
        "    TXT_NEW_LINE = '\\r\\n'\n",
        "\n",
        "    x['html'] += _tag('h3', title)\n",
        "    x['html'] += to_html_table(df, report_columns, use_short_colname, index=False)\n",
        "    x['html'] += HTML_NEW_LINE\n",
        "\n",
        "    x['txt'] += TXT_NEW_LINE + \"%s:%s\"%(title, len(df))\n",
        "\n",
        "  df_off_market = df_listing.query(Q_OFF_MARKET)\n",
        "  df_new_market = df_listing.query(Q_NEW_MARKET)\n",
        "  df_market = df_listing.query(Q_ON_MARKET)\n",
        "\n",
        "  MAX_NEW_LISTING = 5\n",
        "  if len(df_new_market) > MAX_NEW_LISTING:\n",
        "    df_market = pd.concat([df_new_market, df_market])\n",
        "    df_new_market = []\n",
        "\n",
        "  if len(df_new_market)>0:\n",
        "    _update(df_new_market, 'New Listing')\n",
        "  if len(df_off_market)>0:\n",
        "    _update(df_off_market, 'Off Market')\n",
        "\n",
        "  for s in sections:\n",
        "    df = df_market\n",
        "    for q in s.queries:\n",
        "      df = df.query(q)    \n",
        "    if len(df)>0:\n",
        "      _update(df, s.title, s.enrich_funcs, s.report_columns, s.short_colname)  \n",
        "\n",
        "  if not dry_run: \n",
        "    SendEmail(subject, to, x['html'], x['txt'])\n",
        "    print(to)\n",
        "  else:\n",
        "    print(x['txt'])"
      ],
      "execution_count": 242,
      "outputs": []
    },
    {
      "cell_type": "markdown",
      "metadata": {
        "id": "Li3ANuAhSIJE",
        "colab_type": "text"
      },
      "source": [
        "#### Update new listing and price"
      ]
    },
    {
      "cell_type": "code",
      "metadata": {
        "id": "PwjwGvN5ep2U",
        "colab_type": "code",
        "colab": {}
      },
      "source": [
        "def get_house_listing(subs, price_range=None, property_range=None):\n",
        "  result = []\n",
        "\n",
        "  for sub in subs:\n",
        "    print(\"Processing %s %s\"%(sub.name, sub.postcode))\n",
        "    sub_by_price = client.listing(sub, price_range=price_range, property_range=property_range, expand_search=False)    \n",
        "    if sub_by_price: \n",
        "      result += sub_by_price\n",
        "    domain.log(logging.INFO, 'Processing %s: return %s results. Total result %s',sub.name, len(sub_by_price), len(result))      \n",
        "\n",
        "  df = domain.to_dataframe(result)\n",
        "  UpdateFields(df)\n",
        "  return df"
      ],
      "execution_count": 21,
      "outputs": []
    },
    {
      "cell_type": "code",
      "metadata": {
        "id": "BIlguDrHpjE0",
        "colab_type": "code",
        "colab": {}
      },
      "source": [
        "def get_listing_by_postcodes(postcodes, price_range=None, property_range=None, state='NSW'):\n",
        "  subs = [domain.Suburb(\"\", x, state) for x in postcodes]\n",
        "  return get_house_listing(subs, price_range, property_range)\n",
        "\n",
        "def get_listing_by_suburb(suburbs, price_range=None, property_range=None, state='NSW'):\n",
        "  subs = suburbs.apply(lambda row: domain.Suburb(row.suburb, row.postcode, state), axis=1).tolist()\n",
        "  return get_house_listing(subs, price_range, property_range)"
      ],
      "execution_count": 22,
      "outputs": []
    },
    {
      "cell_type": "code",
      "metadata": {
        "id": "Nd07BthSgFqP",
        "colab_type": "code",
        "colab": {}
      },
      "source": [
        "def get_domain_price(prop_id, prop_info, estimate_range, estimate_error=5000):\n",
        "  def is_in_price_range(min_price, max_price):\n",
        "    criteria = {\n",
        "      \"listingType\":\"Sale\",\n",
        "      \"minPrice\":int(min_price),\n",
        "      \"maxPrice\":int(max_price),\n",
        "      \"propertyTypes\":['House'],\n",
        "      \"minBedrooms\":int(prop_info['bed']),\n",
        "      \"maxBedrooms\":int(prop_info['bed']),\n",
        "      \"minBathrooms\":int(prop_info['bath']),\n",
        "      \"maxBathrooms\":int(prop_info['bath']),\n",
        "      \"minCarspaces\":int(prop_info['car']),\n",
        "      \"maxCarspaces\":int(prop_info['car']),\n",
        "      \"locations\":[\n",
        "        {\n",
        "          \"state\":'NSW',\n",
        "          \"region\":\"\",\n",
        "          \"area\":\"\",\n",
        "          \"suburb\":prop_info['sub'],\n",
        "          \"postCode\":int(prop_info['postcode']) if 'postcode' in prop_info else \"\",\n",
        "          \"includeSurroundingSuburbs\":False\n",
        "        }\n",
        "      ]\n",
        "    }\n",
        "    result = client.listing_by_criteria(criteria)\n",
        "    return any(prop_id==x[0] for x in result)\n",
        "\n",
        "  min_price = estimate_range.min if estimate_range.min else 0\n",
        "  max_price = estimate_range.max if estimate_range.max else 0\n",
        "  mid_price = None\n",
        "  domain.log(logging.INFO, '[START][%s] min=%s max=%s', prop_id, min_price, max_price)\n",
        "\n",
        "  while(min_price and max_price and min_price + estimate_error < max_price):\n",
        "    mid_price = min_price + int((max_price - min_price)/2)\n",
        "    domain.log(logging.DEBUG, '[SEARCH] min=%s max=%s mid=%s', min_price, max_price, mid_price)\n",
        "    if is_in_price_range(min_price, mid_price):\n",
        "      max_price = mid_price\n",
        "    elif is_in_price_range(mid_price, max_price): \n",
        "      min_price = mid_price\n",
        "    else:\n",
        "      mid_price = None\n",
        "      domain.log(logging.WARNING, '[FAILED] min=%s max=%s mid=%s', min_price, max_price, mid_price)\n",
        "      break\n",
        "\n",
        "  return mid_price, min_price, max_price"
      ],
      "execution_count": 23,
      "outputs": []
    },
    {
      "cell_type": "code",
      "metadata": {
        "id": "Y945HWa7Cnz-",
        "colab_type": "code",
        "colab": {}
      },
      "source": [
        "def is_invalid_price(price):\n",
        "  return price is None or math.isnan(price) or price <= 0\n",
        "\n",
        "def round_price(df_listing, tens=4):\n",
        "  df_listing[COL_DOMAIN_PRICE] = df_listing[COL_DOMAIN_PRICE].apply(lambda x : round(x, -tens) if x else x)\n",
        "\n",
        "def verify_price(df_listing, price_result, to_update=False):\n",
        "  mismatch = 0\n",
        "  for pid, price in price_result.items():\n",
        "    df_price = df_listing.loc[pid, COL_DOMAIN_PRICE]\n",
        "    if df_price != price:\n",
        "      mismatch += 1\n",
        "      print('Price Not Match: pid=%s result=%s df_price=%s'%(pid, price, df_price))\n",
        "      if to_update:\n",
        "        df_listing.at[pid, COL_DOMAIN_PRICE] = price\n",
        "  print('PASS' if mismatch == 0 else \"%s mismatch\"%(mismatch))\n",
        "  return mismatch  \n",
        "\n",
        "def update_domain_price(df_listing, estimate_price_range, pid_list=[], exclude_list=[], force_update=False, estimate_error=1e4, run_limit=None):\n",
        "  result = {}\n",
        "  MAX_FAIL = 3\n",
        "  MAX_TO_SAVE = 5\n",
        "  processed = 0\n",
        "  failed =  0\n",
        "  to_save = 0\n",
        "  for pid in df_listing.index:\n",
        "    try:\n",
        "      if pid_list and pid not in pid_list:\n",
        "        continue\n",
        "\n",
        "      if exclude_list and pid in exclude_list:\n",
        "        continue\n",
        "\n",
        "      if not force_update and not is_invalid_price(df_listing.loc[pid][COL_DOMAIN_PRICE]):\n",
        "        continue\n",
        "      \n",
        "      processed += 1\n",
        "\n",
        "      prop_info = df_listing.loc[pid].to_dict()\n",
        "      mid, min, max = get_domain_price(pid, prop_info, estimate_price_range, estimate_error)\n",
        "      df_listing.at[pid,COL_DOMAIN_PRICE] = mid\n",
        "      result[pid] = mid\n",
        "\n",
        "      to_save += 1\n",
        "\n",
        "      domain.log(logging.INFO, \"[PRICE][%s] %s (%s - %s)\", pid, mid, min, max)\n",
        "    except:\n",
        "      failed += 1\n",
        "      domain.log(logging.WARNING, \"Failed to get price for [%s], total failed=%s\", pid, failed)\n",
        "\n",
        "    if to_save >= MAX_TO_SAVE:\n",
        "      mismatch = verify_price(df_listing, result)\n",
        "      if mismatch == 0:\n",
        "        print(\"Save Price after %s price found\" % to_save)\n",
        "        df_to_save = df_listing.query(Q_NOT_OFF_MARKET)\n",
        "        SaveToCsv(df_to_save, record_file, update_latest=False)\n",
        "        to_save = 0\n",
        "      else:\n",
        "        print(\"TO CHECK: found %s price mismatch\" % mismatch)\n",
        "        break\n",
        "      \n",
        "    if run_limit and processed >= run_limit:\n",
        "      print(\"Done for processing %s property\" % run_limit)\n",
        "      break\n",
        "\n",
        "    if failed >= MAX_FAIL:\n",
        "      print(\"Stop after failed %s times\" % failed)\n",
        "      break\n",
        "\n",
        "  return result\n",
        "  #df_listing[COL_DOMAIN_PRICE] = df_listing.index.map(lambda x : domain.PropertyReport(client, x).check_price(estimate_price_range,estimate_error)[0])"
      ],
      "execution_count": 281,
      "outputs": []
    },
    {
      "cell_type": "code",
      "metadata": {
        "id": "J0q_FVEJ1bOB",
        "colab_type": "code",
        "colab": {}
      },
      "source": [
        "def get_pid_list_without_price(df_listing):\n",
        "  result = []\n",
        "  df_market = df_listing.query(Q_NOT_OFF_MARKET)\n",
        "  for section in REPORT_SECTION:\n",
        "    df = df_market\n",
        "    for q in section.queries:\n",
        "      df = df.query(q)\n",
        "    idx_invalid_price = df[COL_DOMAIN_PRICE].apply(is_invalid_price)\n",
        "    result += df[idx_invalid_price].index.tolist()\n",
        "  return result"
      ],
      "execution_count": 25,
      "outputs": []
    },
    {
      "cell_type": "markdown",
      "metadata": {
        "id": "Zt1y32UqResl",
        "colab_type": "text"
      },
      "source": [
        "### Setup"
      ]
    },
    {
      "cell_type": "code",
      "metadata": {
        "id": "gglsItAtjCzp",
        "colab_type": "code",
        "colab": {}
      },
      "source": [
        "def get_record_filename(subject, file_ext='csv'):  \n",
        "  prefix = '_'.join(subject.lower().split(' '))\n",
        "  return  \"%s.%s\" % (prefix, file_ext)\n",
        "\n",
        "def setup_suburb():\n",
        "  result = {}\n",
        "\n",
        "  # north shore  \n",
        "  suburbs = hd.LoadSydneySuburbs('north shore')\n",
        "  result[SUB_LNS] = suburbs[suburbs.postcode < LNS_POSTCODE]\n",
        "  result[SUB_MNS] = suburbs[(suburbs.postcode >= LNS_POSTCODE) & (suburbs.postcode <= UNS_POSTCODE)]\n",
        "  result[SUB_UNS] = suburbs[suburbs.postcode > UNS_POSTCODE]\n",
        "\n",
        "  # EAST\n",
        "  suburbs = hd.LoadSydneySuburbs('east')\n",
        "  result[SUB_NE] = suburbs[suburbs.postcode < NE_POSTCODE]\n",
        "  result[SUB_SE] = suburbs[suburbs.postcode >= NE_POSTCODE]\n",
        "\n",
        "  return result"
      ],
      "execution_count": 249,
      "outputs": []
    },
    {
      "cell_type": "markdown",
      "metadata": {
        "id": "piok3-z-SDSQ",
        "colab_type": "text"
      },
      "source": [
        "### Listing"
      ]
    },
    {
      "cell_type": "code",
      "metadata": {
        "id": "2Cb5Vb4cQ4dJ",
        "colab_type": "code",
        "colab": {}
      },
      "source": [
        "region = SUB_NE"
      ],
      "execution_count": 250,
      "outputs": []
    },
    {
      "cell_type": "code",
      "metadata": {
        "id": "EDEYWVHxqRxK",
        "colab_type": "code",
        "colab": {}
      },
      "source": [
        "all_suburbs = setup_suburb()"
      ],
      "execution_count": 251,
      "outputs": []
    },
    {
      "cell_type": "code",
      "metadata": {
        "id": "lSLtP0GMloq9",
        "colab_type": "code",
        "colab": {
          "base_uri": "https://localhost:8080/",
          "height": 35
        },
        "outputId": "f9234031-3ec0-4332-8c83-e6c34389320a"
      },
      "source": [
        "suburb = all_suburbs[region]\n",
        "record_file = get_record_filename(region)\n",
        "print(region, record_file)"
      ],
      "execution_count": 252,
      "outputs": [
        {
          "output_type": "stream",
          "text": [
            "North East north_east.csv\n"
          ],
          "name": "stdout"
        }
      ]
    },
    {
      "cell_type": "code",
      "metadata": {
        "id": "UZqKYL4dRkbF",
        "colab_type": "code",
        "colab": {}
      },
      "source": [
        "#df_last = LoadExistingRecord('lower_north_shore-20200705.csv')\n",
        "#df_cur = LoadExistingRecord(record_file)"
      ],
      "execution_count": null,
      "outputs": []
    },
    {
      "cell_type": "code",
      "metadata": {
        "id": "vUu0UbzKSYN2",
        "colab_type": "code",
        "colab": {
          "base_uri": "https://localhost:8080/",
          "height": 35
        },
        "outputId": "75048ebc-98b4-4567-ffd5-1f53ef64df18"
      },
      "source": [
        "df_last = LoadExistingRecord(record_file)\n",
        "print('Load Existing: %s' % len(df_last))"
      ],
      "execution_count": 253,
      "outputs": [
        {
          "output_type": "stream",
          "text": [
            "Load Existing: 0\n"
          ],
          "name": "stdout"
        }
      ]
    },
    {
      "cell_type": "code",
      "metadata": {
        "id": "D45YQ4v8pA6Y",
        "colab_type": "code",
        "colab": {
          "base_uri": "https://localhost:8080/",
          "height": 35
        },
        "outputId": "71dbebd8-7b03-4b32-8f3a-cb271d5f2934"
      },
      "source": [
        "# prepare only postcode\n",
        "postcodes= [int(x) for x in suburb.postcode.unique()]\n",
        "print(postcodes)"
      ],
      "execution_count": 254,
      "outputs": [
        {
          "output_type": "stream",
          "text": [
            "[2020, 2021, 2022, 2023, 2024, 2025, 2026, 2027, 2028, 2029]\n"
          ],
          "name": "stdout"
        }
      ]
    },
    {
      "cell_type": "code",
      "metadata": {
        "id": "szrr5WFSATfW",
        "colab_type": "code",
        "colab": {
          "base_uri": "https://localhost:8080/",
          "height": 364
        },
        "outputId": "0cdff459-fa2f-4579-d4c9-abd2833ad406"
      },
      "source": [
        "df_cur = get_listing_by_postcodes(postcodes, search_price)"
      ],
      "execution_count": 255,
      "outputs": [
        {
          "output_type": "stream",
          "text": [
            "Processing  2020\n"
          ],
          "name": "stdout"
        },
        {
          "output_type": "stream",
          "text": [
            "13:36:05,878 DomainApi INFO Processing : return 3 results. Total result 3\n"
          ],
          "name": "stderr"
        },
        {
          "output_type": "stream",
          "text": [
            "Processing  2021\n"
          ],
          "name": "stdout"
        },
        {
          "output_type": "stream",
          "text": [
            "13:36:08,461 DomainApi INFO Processing : return 14 results. Total result 17\n"
          ],
          "name": "stderr"
        },
        {
          "output_type": "stream",
          "text": [
            "Processing  2022\n"
          ],
          "name": "stdout"
        },
        {
          "output_type": "stream",
          "text": [
            "13:36:10,859 DomainApi INFO Processing : return 4 results. Total result 21\n"
          ],
          "name": "stderr"
        },
        {
          "output_type": "stream",
          "text": [
            "Processing  2023\n"
          ],
          "name": "stdout"
        },
        {
          "output_type": "stream",
          "text": [
            "13:36:13,232 DomainApi INFO Processing : return 0 results. Total result 21\n"
          ],
          "name": "stderr"
        },
        {
          "output_type": "stream",
          "text": [
            "Processing  2024\n"
          ],
          "name": "stdout"
        },
        {
          "output_type": "stream",
          "text": [
            "13:36:15,669 DomainApi INFO Processing : return 4 results. Total result 25\n"
          ],
          "name": "stderr"
        },
        {
          "output_type": "stream",
          "text": [
            "Processing  2025\n"
          ],
          "name": "stdout"
        },
        {
          "output_type": "stream",
          "text": [
            "13:36:18,207 DomainApi INFO Processing : return 2 results. Total result 27\n"
          ],
          "name": "stderr"
        },
        {
          "output_type": "stream",
          "text": [
            "Processing  2026\n"
          ],
          "name": "stdout"
        },
        {
          "output_type": "stream",
          "text": [
            "13:36:20,838 DomainApi INFO Processing : return 11 results. Total result 38\n"
          ],
          "name": "stderr"
        },
        {
          "output_type": "stream",
          "text": [
            "Processing  2027\n"
          ],
          "name": "stdout"
        },
        {
          "output_type": "stream",
          "text": [
            "13:36:23,127 DomainApi INFO Processing : return 0 results. Total result 38\n"
          ],
          "name": "stderr"
        },
        {
          "output_type": "stream",
          "text": [
            "Processing  2028\n"
          ],
          "name": "stdout"
        },
        {
          "output_type": "stream",
          "text": [
            "13:36:25,630 DomainApi INFO Processing : return 0 results. Total result 38\n"
          ],
          "name": "stderr"
        },
        {
          "output_type": "stream",
          "text": [
            "Processing  2029\n"
          ],
          "name": "stdout"
        },
        {
          "output_type": "stream",
          "text": [
            "13:36:27,937 DomainApi INFO Processing : return 3 results. Total result 41\n"
          ],
          "name": "stderr"
        }
      ]
    },
    {
      "cell_type": "code",
      "metadata": {
        "id": "4Jgs4f0K_joG",
        "colab_type": "code",
        "colab": {
          "base_uri": "https://localhost:8080/",
          "height": 35
        },
        "outputId": "e89e31fe-ce62-4c34-8a61-8fdce07ae238"
      },
      "source": [
        "df_all = reconcile(df_cur,df_last)\n",
        "print('Combined : %s'%len(df_all))"
      ],
      "execution_count": 256,
      "outputs": [
        {
          "output_type": "stream",
          "text": [
            "Combined : 41\n"
          ],
          "name": "stdout"
        }
      ]
    },
    {
      "cell_type": "code",
      "metadata": {
        "id": "32_wXLjboWwc",
        "colab_type": "code",
        "colab": {}
      },
      "source": [
        "#df_all[df_all[COL_DOMAIN_PRICE].isna()]"
      ],
      "execution_count": 258,
      "outputs": []
    },
    {
      "cell_type": "markdown",
      "metadata": {
        "id": "gMiukuoKzg3s",
        "colab_type": "text"
      },
      "source": [
        "\n",
        "#### Update Price"
      ]
    },
    {
      "cell_type": "code",
      "metadata": {
        "id": "o20hAMQ6zgBc",
        "colab_type": "code",
        "colab": {
          "base_uri": "https://localhost:8080/",
          "height": 35
        },
        "outputId": "84af8410-863c-46e5-8c99-5210d060a98f"
      },
      "source": [
        "pid_to_update = get_pid_list_without_price(df_all)\n",
        "print(\"%s out %s needs price update\" % (len(pid_to_update), len(df_all)))"
      ],
      "execution_count": 261,
      "outputs": [
        {
          "output_type": "stream",
          "text": [
            "41 out 41 needs price update\n"
          ],
          "name": "stdout"
        }
      ]
    },
    {
      "cell_type": "code",
      "metadata": {
        "id": "HdL1oNcjPflu",
        "colab_type": "code",
        "colab": {}
      },
      "source": [
        "#run_pid = df_all[df_all.DomainPrice==2400000].index.tolist()\n",
        "#len(run_pid)"
      ],
      "execution_count": null,
      "outputs": []
    },
    {
      "cell_type": "code",
      "metadata": {
        "id": "J9d_T9eE8dTB",
        "colab_type": "code",
        "colab": {}
      },
      "source": [
        "select_pids = pid_to_update"
      ],
      "execution_count": 262,
      "outputs": []
    },
    {
      "cell_type": "code",
      "metadata": {
        "id": "mfK87vg9z1gN",
        "colab_type": "code",
        "colab": {}
      },
      "source": [
        "exclude_pids = [2016380074,2016363574,2016315628,2016107573,2016215503,2016282966]"
      ],
      "execution_count": 275,
      "outputs": []
    },
    {
      "cell_type": "code",
      "metadata": {
        "id": "EE72PpcsbVzk",
        "colab_type": "code",
        "colab": {
          "base_uri": "https://localhost:8080/",
          "height": 139
        },
        "outputId": "a4a326bb-60d2-4c25-aed4-2074044c4ead"
      },
      "source": [
        "price_range_to_use = search_price \n",
        "price_result = update_domain_price(df_all, price_range_to_use, select_pids, exclude_list=exclude_pids, run_limit=10)"
      ],
      "execution_count": 276,
      "outputs": [
        {
          "output_type": "stream",
          "text": [
            "13:47:27,141 DomainApi INFO [START][2016268490] min=1800000.0 max=3000000.0\n",
            "13:47:27,142 DomainApi WARNING Failed to get price for [2016268490], total failed=1\n",
            "13:47:27,145 DomainApi INFO [START][2016317206] min=1800000.0 max=3000000.0\n",
            "13:47:27,147 DomainApi WARNING Failed to get price for [2016317206], total failed=2\n",
            "13:47:27,149 DomainApi INFO [START][2016323276] min=1800000.0 max=3000000.0\n",
            "13:47:27,150 DomainApi WARNING Failed to get price for [2016323276], total failed=3\n"
          ],
          "name": "stderr"
        },
        {
          "output_type": "stream",
          "text": [
            "Stop after failed 3 times\n"
          ],
          "name": "stdout"
        }
      ]
    },
    {
      "cell_type": "code",
      "metadata": {
        "id": "FfWgjw5BMh1d",
        "colab_type": "code",
        "colab": {
          "base_uri": "https://localhost:8080/",
          "height": 52
        },
        "outputId": "bcb1db3d-ba02-4263-887f-16dca774dccf"
      },
      "source": [
        "verify_price(df_all, price_result, to_update=False)"
      ],
      "execution_count": 277,
      "outputs": [
        {
          "output_type": "stream",
          "text": [
            "PASS\n"
          ],
          "name": "stdout"
        },
        {
          "output_type": "execute_result",
          "data": {
            "text/plain": [
              "0"
            ]
          },
          "metadata": {
            "tags": []
          },
          "execution_count": 277
        }
      ]
    },
    {
      "cell_type": "markdown",
      "metadata": {
        "id": "lQGWMpxiSdjb",
        "colab_type": "text"
      },
      "source": [
        "#### Save File and Send Report"
      ]
    },
    {
      "cell_type": "code",
      "metadata": {
        "id": "HlJ5CHyL3bkO",
        "colab_type": "code",
        "colab": {
          "base_uri": "https://localhost:8080/",
          "height": 79
        },
        "outputId": "f86ce57d-63ae-48ed-de94-8dd2095e77b4"
      },
      "source": [
        "df_all[df_all[COL_DOMAIN_PRICE].isna()]"
      ],
      "execution_count": 239,
      "outputs": [
        {
          "output_type": "execute_result",
          "data": {
            "text/html": [
              "<div>\n",
              "<style scoped>\n",
              "    .dataframe tbody tr th:only-of-type {\n",
              "        vertical-align: middle;\n",
              "    }\n",
              "\n",
              "    .dataframe tbody tr th {\n",
              "        vertical-align: top;\n",
              "    }\n",
              "\n",
              "    .dataframe thead th {\n",
              "        text-align: right;\n",
              "    }\n",
              "</style>\n",
              "<table border=\"1\" class=\"dataframe\">\n",
              "  <thead>\n",
              "    <tr style=\"text-align: right;\">\n",
              "      <th></th>\n",
              "      <th>DomainPrice</th>\n",
              "      <th>addr</th>\n",
              "      <th>area</th>\n",
              "      <th>auction</th>\n",
              "      <th>bath</th>\n",
              "      <th>bed</th>\n",
              "      <th>car</th>\n",
              "      <th>gas</th>\n",
              "      <th>inspect</th>\n",
              "      <th>latitude</th>\n",
              "      <th>longitude</th>\n",
              "      <th>pool</th>\n",
              "      <th>postcode</th>\n",
              "      <th>price</th>\n",
              "      <th>status</th>\n",
              "      <th>sub</th>\n",
              "      <th>url</th>\n",
              "    </tr>\n",
              "    <tr>\n",
              "      <th>pid</th>\n",
              "      <th></th>\n",
              "      <th></th>\n",
              "      <th></th>\n",
              "      <th></th>\n",
              "      <th></th>\n",
              "      <th></th>\n",
              "      <th></th>\n",
              "      <th></th>\n",
              "      <th></th>\n",
              "      <th></th>\n",
              "      <th></th>\n",
              "      <th></th>\n",
              "      <th></th>\n",
              "      <th></th>\n",
              "      <th></th>\n",
              "      <th></th>\n",
              "      <th></th>\n",
              "    </tr>\n",
              "  </thead>\n",
              "  <tbody>\n",
              "  </tbody>\n",
              "</table>\n",
              "</div>"
            ],
            "text/plain": [
              "Empty DataFrame\n",
              "Columns: [DomainPrice, addr, area, auction, bath, bed, car, gas, inspect, latitude, longitude, pool, postcode, price, status, sub, url]\n",
              "Index: []"
            ]
          },
          "metadata": {
            "tags": []
          },
          "execution_count": 239
        }
      ]
    },
    {
      "cell_type": "code",
      "metadata": {
        "id": "wkS5FhtuNMQT",
        "colab_type": "code",
        "colab": {}
      },
      "source": [
        "df_to_save = df_all.query(Q_NOT_OFF_MARKET)"
      ],
      "execution_count": 278,
      "outputs": []
    },
    {
      "cell_type": "code",
      "metadata": {
        "id": "dq8x3QNFtlIm",
        "colab_type": "code",
        "colab": {}
      },
      "source": [
        "SaveToCsv(df_to_save, record_file, update_latest=True)"
      ],
      "execution_count": 279,
      "outputs": []
    },
    {
      "cell_type": "code",
      "metadata": {
        "id": "jZvwqzNtEu3T",
        "colab_type": "code",
        "colab": {}
      },
      "source": [
        "round_price(df_all)"
      ],
      "execution_count": 282,
      "outputs": []
    },
    {
      "cell_type": "code",
      "metadata": {
        "id": "8YTk3e2VrAtv",
        "colab_type": "code",
        "colab": {
          "base_uri": "https://localhost:8080/",
          "height": 35
        },
        "outputId": "94f3a5bb-c4a3-44c5-ceb1-6c1484c3ce78"
      },
      "source": [
        "SendReport(df_all, subject=region, to=EMAIL_DEV, dry_run=False)"
      ],
      "execution_count": 283,
      "outputs": [
        {
          "output_type": "stream",
          "text": [
            "['fiony9@gmail.com']\n"
          ],
          "name": "stdout"
        }
      ]
    },
    {
      "cell_type": "code",
      "metadata": {
        "id": "J09cg1H4pI2W",
        "colab_type": "code",
        "colab": {
          "base_uri": "https://localhost:8080/",
          "height": 233
        },
        "outputId": "4dfb9960-4dbf-4f02-c1f3-81a9deadfebd"
      },
      "source": [
        "show(df_all[0:5])"
      ],
      "execution_count": 268,
      "outputs": [
        {
          "output_type": "display_data",
          "data": {
            "text/html": [
              "<table border=\"1\" class=\"dataframe\">\n",
              "  <thead>\n",
              "    <tr style=\"text-align: right;\">\n",
              "      <th></th>\n",
              "      <th>addr</th>\n",
              "      <th>DomainPrice</th>\n",
              "      <th>area</th>\n",
              "      <th>bed</th>\n",
              "      <th>car</th>\n",
              "      <th>bath</th>\n",
              "      <th>gas</th>\n",
              "      <th>pool</th>\n",
              "      <th>price</th>\n",
              "      <th>sub</th>\n",
              "      <th>status</th>\n",
              "    </tr>\n",
              "    <tr>\n",
              "      <th>pid</th>\n",
              "      <th></th>\n",
              "      <th></th>\n",
              "      <th></th>\n",
              "      <th></th>\n",
              "      <th></th>\n",
              "      <th></th>\n",
              "      <th></th>\n",
              "      <th></th>\n",
              "      <th></th>\n",
              "      <th></th>\n",
              "      <th></th>\n",
              "    </tr>\n",
              "  </thead>\n",
              "  <tbody>\n",
              "    <tr>\n",
              "      <th>2016272166</th>\n",
              "      <td><a target=\"_blank\" href=\"https://www.domain.com.au/19-sparks-street-mascot-nsw-2020-2016272166\">19 Sparks Street</a></td>\n",
              "      <td>1,903,125</td>\n",
              "      <td>591</td>\n",
              "      <td>6</td>\n",
              "      <td>3</td>\n",
              "      <td>3</td>\n",
              "      <td>Y</td>\n",
              "      <td>Y</td>\n",
              "      <td>For Sale $1,900,000 - $2,000,000</td>\n",
              "      <td>MASCOT</td>\n",
              "      <td>NEW</td>\n",
              "    </tr>\n",
              "    <tr>\n",
              "      <th>2016295699</th>\n",
              "      <td><a target=\"_blank\" href=\"https://www.domain.com.au/14-francis-street-mascot-nsw-2020-2016295699\">14 Francis Street</a></td>\n",
              "      <td>1,846,875</td>\n",
              "      <td>nan</td>\n",
              "      <td>5</td>\n",
              "      <td>2</td>\n",
              "      <td>3</td>\n",
              "      <td>Y</td>\n",
              "      <td>N</td>\n",
              "      <td>$1,900,000 - $2,000,000</td>\n",
              "      <td>MASCOT</td>\n",
              "      <td>NEW</td>\n",
              "    </tr>\n",
              "    <tr>\n",
              "      <th>2015399273</th>\n",
              "      <td><a target=\"_blank\" href=\"https://www.domain.com.au/2-and-4-walker-ave-mascot-nsw-2020-2015399273\">2 and 4 Walker Ave</a></td>\n",
              "      <td>2,090,625</td>\n",
              "      <td>562</td>\n",
              "      <td>6</td>\n",
              "      <td>1</td>\n",
              "      <td>3</td>\n",
              "      <td>N</td>\n",
              "      <td>N</td>\n",
              "      <td>2 Homes 1 Title</td>\n",
              "      <td>MASCOT</td>\n",
              "      <td>NEW</td>\n",
              "    </tr>\n",
              "    <tr>\n",
              "      <th>2016380074</th>\n",
              "      <td><a target=\"_blank\" href=\"https://www.domain.com.au/39-harris-street-paddington-nsw-2021-2016380074\">39 Harris Street</a></td>\n",
              "      <td>None</td>\n",
              "      <td>nan</td>\n",
              "      <td>1</td>\n",
              "      <td>nan</td>\n",
              "      <td>2</td>\n",
              "      <td>N</td>\n",
              "      <td>N</td>\n",
              "      <td>Auction - 15th August</td>\n",
              "      <td>PADDINGTON</td>\n",
              "      <td>NEW</td>\n",
              "    </tr>\n",
              "    <tr>\n",
              "      <th>2016282976</th>\n",
              "      <td><a target=\"_blank\" href=\"https://www.domain.com.au/10-moore-park-road-paddington-nsw-2021-2016282976\">10 Moore Park  Road</a></td>\n",
              "      <td>2,990,625</td>\n",
              "      <td>220</td>\n",
              "      <td>3</td>\n",
              "      <td>3</td>\n",
              "      <td>2</td>\n",
              "      <td>Y</td>\n",
              "      <td>N</td>\n",
              "      <td>Contact Agent</td>\n",
              "      <td>PADDINGTON</td>\n",
              "      <td>NEW</td>\n",
              "    </tr>\n",
              "  </tbody>\n",
              "</table>"
            ],
            "text/plain": [
              "<IPython.core.display.HTML object>"
            ]
          },
          "metadata": {
            "tags": []
          }
        }
      ]
    },
    {
      "cell_type": "markdown",
      "metadata": {
        "id": "02d2HCMfLgZQ",
        "colab_type": "text"
      },
      "source": [
        "### Check Single Property"
      ]
    },
    {
      "cell_type": "code",
      "metadata": {
        "id": "rEcogClYVdXS",
        "colab_type": "code",
        "colab": {}
      },
      "source": [
        "#prop = domain.PropertyReport(client, 2016319850)"
      ],
      "execution_count": null,
      "outputs": []
    },
    {
      "cell_type": "code",
      "metadata": {
        "id": "34quExicVjNb",
        "colab_type": "code",
        "colab": {}
      },
      "source": [
        "#prop.domain_price(price_range=domain.PriceRange(2e6, 5e6))"
      ],
      "execution_count": null,
      "outputs": []
    },
    {
      "cell_type": "markdown",
      "metadata": {
        "id": "dWN8WDyfUav7",
        "colab_type": "text"
      },
      "source": [
        "#### DEBUG"
      ]
    },
    {
      "cell_type": "code",
      "metadata": {
        "id": "4LuTa-DuUcap",
        "colab_type": "code",
        "colab": {
          "base_uri": "https://localhost:8080/",
          "height": 35
        },
        "outputId": "5ba34dd8-0bc2-458c-da94-dcd6fc581704"
      },
      "source": [
        "\"\"\"\n",
        "i=0\n",
        "while(i<1000):\n",
        "  print(i)\n",
        "  i+=1\n",
        "  time.sleep(30)\n",
        "\"\"\""
      ],
      "execution_count": null,
      "outputs": [
        {
          "output_type": "execute_result",
          "data": {
            "application/vnd.google.colaboratory.intrinsic": {
              "type": "string"
            },
            "text/plain": [
              "'\\ni=0\\nwhile(i<1000):\\n  print(i)\\n  i+=1\\n  time.sleep(30)\\n'"
            ]
          },
          "metadata": {
            "tags": []
          },
          "execution_count": 21
        }
      ]
    }
  ]
}