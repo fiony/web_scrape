{
 "cells": [
  {
   "cell_type": "code",
   "execution_count": 1,
   "metadata": {},
   "outputs": [],
   "source": [
    "import sys"
   ]
  },
  {
   "cell_type": "code",
   "execution_count": 5,
   "metadata": {},
   "outputs": [
    {
     "name": "stdout",
     "output_type": "stream",
     "text": [
      "Collecting beautifulsoup4\n",
      "\u001b[?25l  Downloading https://files.pythonhosted.org/packages/1d/5d/3260694a59df0ec52f8b4883f5d23b130bc237602a1411fa670eae12351e/beautifulsoup4-4.7.1-py3-none-any.whl (94kB)\n",
      "\u001b[K    100% |████████████████████████████████| 102kB 746kB/s a 0:00:01\n",
      "\u001b[?25hCollecting soupsieve>=1.2 (from beautifulsoup4)\n",
      "  Downloading https://files.pythonhosted.org/packages/2b/9f/7ea8732cc071c1253acf4a5aad507e12c57da011e615ed65ed853898e3ce/soupsieve-1.7.2-py2.py3-none-any.whl\n",
      "Installing collected packages: soupsieve, beautifulsoup4\n",
      "Successfully installed beautifulsoup4-4.7.1 soupsieve-1.7.2\n",
      "\u001b[33mYou are using pip version 18.1, however version 19.0 is available.\n",
      "You should consider upgrading via the 'pip install --upgrade pip' command.\u001b[0m\n"
     ]
    }
   ],
   "source": [
    "!{sys.executable} -m pip install beautifulsoup4"
   ]
  },
  {
   "cell_type": "code",
   "execution_count": 10,
   "metadata": {},
   "outputs": [
    {
     "name": "stdout",
     "output_type": "stream",
     "text": [
      "Collecting requests\n",
      "\u001b[?25l  Downloading https://files.pythonhosted.org/packages/7d/e3/20f3d364d6c8e5d2353c72a67778eb189176f08e873c9900e10c0287b84b/requests-2.21.0-py2.py3-none-any.whl (57kB)\n",
      "\u001b[K    100% |████████████████████████████████| 61kB 687kB/s ta 0:00:01\n",
      "\u001b[?25hRequirement already satisfied: idna<2.9,>=2.5 in /home/vagrant/.venv_scrapy/lib/python3.6/site-packages (from requests) (2.7)\n",
      "Collecting urllib3<1.25,>=1.21.1 (from requests)\n",
      "\u001b[?25l  Downloading https://files.pythonhosted.org/packages/62/00/ee1d7de624db8ba7090d1226aebefab96a2c71cd5cfa7629d6ad3f61b79e/urllib3-1.24.1-py2.py3-none-any.whl (118kB)\n",
      "\u001b[K    100% |████████████████████████████████| 122kB 1.1MB/s ta 0:00:01\n",
      "\u001b[?25hCollecting certifi>=2017.4.17 (from requests)\n",
      "\u001b[?25l  Downloading https://files.pythonhosted.org/packages/9f/e0/accfc1b56b57e9750eba272e24c4dddeac86852c2bebd1236674d7887e8a/certifi-2018.11.29-py2.py3-none-any.whl (154kB)\n",
      "\u001b[K    100% |████████████████████████████████| 163kB 949kB/s ta 0:00:01\n",
      "\u001b[?25hCollecting chardet<3.1.0,>=3.0.2 (from requests)\n",
      "\u001b[?25l  Downloading https://files.pythonhosted.org/packages/bc/a9/01ffebfb562e4274b6487b4bb1ddec7ca55ec7510b22e4c51f14098443b8/chardet-3.0.4-py2.py3-none-any.whl (133kB)\n",
      "\u001b[K    100% |████████████████████████████████| 143kB 712kB/s ta 0:00:01\n",
      "\u001b[?25hInstalling collected packages: urllib3, certifi, chardet, requests\n",
      "Successfully installed certifi-2018.11.29 chardet-3.0.4 requests-2.21.0 urllib3-1.24.1\n",
      "\u001b[33mYou are using pip version 18.1, however version 19.0 is available.\n",
      "You should consider upgrading via the 'pip install --upgrade pip' command.\u001b[0m\n"
     ]
    }
   ],
   "source": [
    "!{sys.executable} -m pip install requests"
   ]
  },
  {
   "cell_type": "code",
   "execution_count": 16,
   "metadata": {},
   "outputs": [
    {
     "name": "stdout",
     "output_type": "stream",
     "text": [
      "Requirement already satisfied: lxml in /home/vagrant/.venv_scrapy/lib/python3.6/site-packages (4.2.5)\n",
      "\u001b[33mYou are using pip version 18.1, however version 19.0 is available.\n",
      "You should consider upgrading via the 'pip install --upgrade pip' command.\u001b[0m\n"
     ]
    }
   ],
   "source": [
    "!{sys.executable} -m pip install lxml"
   ]
  },
  {
   "cell_type": "code",
   "execution_count": 11,
   "metadata": {},
   "outputs": [],
   "source": [
    "import requests"
   ]
  },
  {
   "cell_type": "code",
   "execution_count": 83,
   "metadata": {},
   "outputs": [],
   "source": [
    "from bs4 import BeautifulSoup\n",
    "import re"
   ]
  },
  {
   "cell_type": "code",
   "execution_count": 7,
   "metadata": {},
   "outputs": [],
   "source": [
    "abc_url = r'https://www.abc.net.au/radionational/transcripts/'"
   ]
  },
  {
   "cell_type": "code",
   "execution_count": 12,
   "metadata": {},
   "outputs": [],
   "source": [
    "r = requests.get(abc_url)"
   ]
  },
  {
   "cell_type": "code",
   "execution_count": 18,
   "metadata": {},
   "outputs": [],
   "source": [
    "bs = BeautifulSoup(r.text, 'lxml')"
   ]
  },
  {
   "cell_type": "code",
   "execution_count": 174,
   "metadata": {},
   "outputs": [],
   "source": [
    "def parse_article(article):\n",
    "    result = {}\n",
    "    header = article.find('div', class_='header')\n",
    "    figure = article.find('div', class_='figure')\n",
    "    summary = article.find('div', class_='summary')\n",
    "    \n",
    "    # parse header\n",
    "    if header:\n",
    "        title = header.find('h3', class_='title')\n",
    "        time = header.find('p', class_='time')\n",
    "        audio = header.find('ul', class_='cs-audio-links')\n",
    "        \n",
    "        if title:\n",
    "            result['title'] = title.a.text\n",
    "            result['articlelink'] = title.a.attrs['href']\n",
    "        if time:\n",
    "            result['date'] = next(time.stripped_strings, None)\n",
    "        if audio:\n",
    "            result['audiolink'] = audio.find('a').attrs['href']\n",
    "        \n",
    "    #parse figure\n",
    "    if figure:\n",
    "        result['figure'] = figure.a.img.attrs['src']\n",
    "    \n",
    "    #parse summary\n",
    "    if summary:\n",
    "        result['summary'] = summary.p.string\n",
    "        prog = summary.find('a', class_='program')\n",
    "        if prog:\n",
    "            result['progname'] = prog.text\n",
    "            result['proglink'] = prog.attrs['href']\n",
    "    return result        "
   ]
  },
  {
   "cell_type": "code",
   "execution_count": 175,
   "metadata": {},
   "outputs": [],
   "source": [
    "def parse_articles(page):\n",
    "    all_articles = []\n",
    "    index = page.find('ul', class_='article-index')\n",
    "    for child in index.find_all('li'):\n",
    "        article = parse_article(child)\n",
    "        all_articles.append(article)\n",
    "    return all_articles"
   ]
  },
  {
   "cell_type": "code",
   "execution_count": 176,
   "metadata": {},
   "outputs": [],
   "source": [
    "page1 = parse_articles(bs)"
   ]
  },
  {
   "cell_type": "code",
   "execution_count": 177,
   "metadata": {},
   "outputs": [
    {
     "data": {
      "text/plain": [
       "[{'title': 'Who was the 1st Australian to really circumnavigate the country?',\n",
       "  'articlelink': '/radio/programs/worldtoday/who-was-the-1st-australian-to-really-circumnavigate-the-country/10742118',\n",
       "  'date': '23/1/2019',\n",
       "  'audiolink': 'https://abcmedia.akamaized.net/radio/local_sydney/audio/201901/twt-2019-01-23-john-paul-janke.mp3',\n",
       "  'figure': 'https://www.abc.net.au/radio/image/10742070-1x1-80x80.jpg',\n",
       "  'summary': 'How many people know about King Bungaree, the Indigenous Australian who accompanied Matthew Flinders on the first actual circumnavigation of Australia?',\n",
       "  'progname': 'The World Today',\n",
       "  'proglink': '/radio/programs/worldtoday/'},\n",
       " {},\n",
       " {'title': 'Abu Barak Bashir must never be able to incite terrorism again: FM',\n",
       "  'articlelink': '/radio/programs/am/abu-barak-bashir-must-never-be-able-to-incite-terrorism-again:fm/10738760',\n",
       "  'date': '23/1/2019',\n",
       "  'audiolink': 'https://abcmedia.akamaized.net/radio/local_sydney/audio/201901/pam-2019-01-23-marise-payne.mp3',\n",
       "  'figure': 'https://www.abc.net.au/radio/image/10738672-1x1-80x80.jpg',\n",
       "  'summary': \"Foreign Minister Marise Payne told AM it's imperative that Abu Bakar Bashir never be in a position to incite others to carry out future attacks on innocent civilians.\",\n",
       "  'progname': 'AM',\n",
       "  'proglink': '/radio/programs/am/'},\n",
       " {},\n",
       " {'title': 'Will the Trump and XI administrations dial down the trade war?',\n",
       "  'articlelink': '/radio/programs/worldtoday/will-the-trump-and-xi-administrations-dial-down-the-trade-war/10736132',\n",
       "  'date': '22/1/2019',\n",
       "  'audiolink': 'https://abcmedia.akamaized.net/radio/local_sydney/audio/201901/twt-2019-01-22-alan-oxley-iv.mp3',\n",
       "  'figure': 'https://www.abc.net.au/radio/image/10735786-1x1-80x80.jpg',\n",
       "  'summary': 'What does this latest slowdown in China and the world economy mean for the trade war between the US and China, as the Xi and Trump administrations prepare for talks in Washington next week?',\n",
       "  'progname': 'The World Today',\n",
       "  'proglink': '/radio/programs/worldtoday/'},\n",
       " {},\n",
       " {'title': 'Mobile phones and empathy',\n",
       "  'articlelink': '/radionational/programs/greatmomentsinscience/mobile-phones-and-empathy/10550530',\n",
       "  'date': '22/1/2019',\n",
       "  'audiolink': 'https://abcmedia.akamaized.net/rn/podcast/2019/01/gms_20190122.mp3',\n",
       "  'figure': 'https://www.abc.net.au/radionational/image/10617138-1x1-80x80.jpg',\n",
       "  'summary': 'Is a mobile phone getting in the way of your relationship?',\n",
       "  'progname': 'Great Moments In Science',\n",
       "  'proglink': '/radionational/programs/greatmomentsinscience/'},\n",
       " {},\n",
       " {'title': 'David Littleproud; Live exports and the Murray Darling Basin Authority',\n",
       "  'articlelink': '/radio/programs/am/david-littleproud/10734772',\n",
       "  'date': '22/1/2019',\n",
       "  'audiolink': 'https://abcmedia.akamaized.net/radio/local_sydney/audio/201901/pam-2019-01-22-david-littleproud.mp3',\n",
       "  'figure': 'https://www.abc.net.au/radio/image/10734478-1x1-80x80.jpg',\n",
       "  'summary': 'The Federal Agriculture Minister David Littleproud joins AM to chat about the handling of live exports, a controversial Facebook page that has emerged and updates on the Murray Darling Basin Authority meeting.',\n",
       "  'progname': 'AM',\n",
       "  'proglink': '/radio/programs/am/'},\n",
       " {},\n",
       " {'title': 'Why isn’t there a museum of the First Peoples of Australia?',\n",
       "  'articlelink': '/radio/programs/pm/why-isn%E2%80%99t-there-a-museum-of-the-first-peoples-of-australia/10733386',\n",
       "  'date': '21/1/2019',\n",
       "  'audiolink': 'https://abcmedia.akamaized.net/radio/local_sydney/audio/201901/ppm-2019-01-21-ragbir-bhathal.mp3',\n",
       "  'figure': 'https://www.abc.net.au/radio/image/10733294-1x1-80x80.jpg',\n",
       "  'summary': \"A former consultant to the UN cultural organisation, UNESCO, is calling for an Australian museum dedicated to this country's first peoples, a museum whose sole task is to tell the stories of Aboriginal and Torres Strait Islander culture, history and politics.\",\n",
       "  'progname': 'PM',\n",
       "  'proglink': '/radio/programs/pm/'},\n",
       " {},\n",
       " {'title': 'Investigating traditional Chinese medicine for a vascular dementia treatment',\n",
       "  'articlelink': '/radionational/programs/healthreport/traditional-chinese-medicine-vascular-dementia-treatment/10731260',\n",
       "  'date': '21/1/2019',\n",
       "  'audiolink': 'https://abcmedia.akamaized.net/rn/podcast/2019/01/hrt_20190121_1752.mp3',\n",
       "  'figure': 'https://www.abc.net.au/radionational/image/10731236-1x1-80x80.jpg',\n",
       "  'summary': 'A large review of the evidence has turned up a few substances that could be the subject of further research.',\n",
       "  'progname': 'Health Report',\n",
       "  'proglink': '/radionational/programs/healthreport/'},\n",
       " {},\n",
       " {'title': 'Australians missing out on stroke rehabilitation',\n",
       "  'articlelink': '/radionational/programs/healthreport/australians-missing-out-on-stroke-rehabilitation/10731264',\n",
       "  'date': '21/1/2019',\n",
       "  'audiolink': 'https://abcmedia.akamaized.net/rn/podcast/2019/01/hrt_20190121_1745.mp3',\n",
       "  'figure': 'https://www.abc.net.au/radionational/image/10297208-1x1-80x80.jpg',\n",
       "  'summary': \"Some Australians don't get rehabilitation after they have a stroke, despite being eligible for it.\",\n",
       "  'progname': 'Health Report',\n",
       "  'proglink': '/radionational/programs/healthreport/'},\n",
       " {},\n",
       " {'title': 'One in four will have stroke during lifetime, global figures say',\n",
       "  'articlelink': '/radionational/programs/healthreport/one-in-four-will-have-stroke-during-lifetime/10731262',\n",
       "  'date': '21/1/2019',\n",
       "  'audiolink': 'https://abcmedia.akamaized.net/rn/podcast/2019/01/hrt_20190121_1737.mp3',\n",
       "  'figure': 'https://www.abc.net.au/radionational/image/10731198-1x1-80x80.jpg',\n",
       "  'summary': 'We fare a little better in Australia, but the risk is still significant.',\n",
       "  'progname': 'Health Report',\n",
       "  'proglink': '/radionational/programs/healthreport/'},\n",
       " {},\n",
       " {'title': 'Your lifetime risk of stroke, rehabilitation after stroke, pill testing and traditional Chinese medicine',\n",
       "  'articlelink': '/radionational/programs/healthreport/stroke-risk-and-rehabilitation-pill-testing-health-report/10731456',\n",
       "  'date': '21/1/2019',\n",
       "  'audiolink': 'https://abcmedia.akamaized.net/rn/podcast/2019/01/hrt_20190121.mp3',\n",
       "  'summary': None,\n",
       "  'progname': 'Health Report',\n",
       "  'proglink': '/radionational/programs/healthreport/'},\n",
       " {}]"
      ]
     },
     "execution_count": 177,
     "metadata": {},
     "output_type": "execute_result"
    }
   ],
   "source": [
    "page1"
   ]
  },
  {
   "cell_type": "code",
   "execution_count": null,
   "metadata": {},
   "outputs": [],
   "source": []
  }
 ],
 "metadata": {
  "kernelspec": {
   "display_name": "venv_scrapy",
   "language": "python",
   "name": "scrapy"
  },
  "language_info": {
   "codemirror_mode": {
    "name": "ipython",
    "version": 3
   },
   "file_extension": ".py",
   "mimetype": "text/x-python",
   "name": "python",
   "nbconvert_exporter": "python",
   "pygments_lexer": "ipython3",
   "version": "3.6.5"
  }
 },
 "nbformat": 4,
 "nbformat_minor": 2
}
